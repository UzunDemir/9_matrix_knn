{
  "nbformat": 4,
  "nbformat_minor": 0,
  "metadata": {
    "colab": {
      "provenance": [],
      "authorship_tag": "ABX9TyNU688CMu+3UcItUixxb0oh",
      "include_colab_link": true
    },
    "kernelspec": {
      "name": "python3",
      "display_name": "Python 3"
    },
    "language_info": {
      "name": "python"
    },
    "widgets": {
      "application/vnd.jupyter.widget-state+json": {
        "08b85821fcf34d1a98e64367f35e04f2": {
          "model_module": "@jupyter-widgets/controls",
          "model_name": "HBoxModel",
          "model_module_version": "1.5.0",
          "state": {
            "_dom_classes": [],
            "_model_module": "@jupyter-widgets/controls",
            "_model_module_version": "1.5.0",
            "_model_name": "HBoxModel",
            "_view_count": null,
            "_view_module": "@jupyter-widgets/controls",
            "_view_module_version": "1.5.0",
            "_view_name": "HBoxView",
            "box_style": "",
            "children": [
              "IPY_MODEL_a66c541e136a4162a835264fc83596b4",
              "IPY_MODEL_643d2c29500a4b7db87502f1dbc73cf9",
              "IPY_MODEL_66168e4a97464efeb17ec7b13f493db4"
            ],
            "layout": "IPY_MODEL_f0c1f0d8c2ad416b85ea5a0e53740660"
          }
        },
        "a66c541e136a4162a835264fc83596b4": {
          "model_module": "@jupyter-widgets/controls",
          "model_name": "HTMLModel",
          "model_module_version": "1.5.0",
          "state": {
            "_dom_classes": [],
            "_model_module": "@jupyter-widgets/controls",
            "_model_module_version": "1.5.0",
            "_model_name": "HTMLModel",
            "_view_count": null,
            "_view_module": "@jupyter-widgets/controls",
            "_view_module_version": "1.5.0",
            "_view_name": "HTMLView",
            "description": "",
            "description_tooltip": null,
            "layout": "IPY_MODEL_dda70d72d9da4f3dbd2cf9db160ab906",
            "placeholder": "​",
            "style": "IPY_MODEL_823751b11b2e4460817a3ffafd599f26",
            "value": "100%"
          }
        },
        "643d2c29500a4b7db87502f1dbc73cf9": {
          "model_module": "@jupyter-widgets/controls",
          "model_name": "FloatProgressModel",
          "model_module_version": "1.5.0",
          "state": {
            "_dom_classes": [],
            "_model_module": "@jupyter-widgets/controls",
            "_model_module_version": "1.5.0",
            "_model_name": "FloatProgressModel",
            "_view_count": null,
            "_view_module": "@jupyter-widgets/controls",
            "_view_module_version": "1.5.0",
            "_view_name": "ProgressView",
            "bar_style": "success",
            "description": "",
            "description_tooltip": null,
            "layout": "IPY_MODEL_f5359a32c01743c28b636a35978c5752",
            "max": 50,
            "min": 0,
            "orientation": "horizontal",
            "style": "IPY_MODEL_3bf7787010814161b42173e7e0682fbf",
            "value": 50
          }
        },
        "66168e4a97464efeb17ec7b13f493db4": {
          "model_module": "@jupyter-widgets/controls",
          "model_name": "HTMLModel",
          "model_module_version": "1.5.0",
          "state": {
            "_dom_classes": [],
            "_model_module": "@jupyter-widgets/controls",
            "_model_module_version": "1.5.0",
            "_model_name": "HTMLModel",
            "_view_count": null,
            "_view_module": "@jupyter-widgets/controls",
            "_view_module_version": "1.5.0",
            "_view_name": "HTMLView",
            "description": "",
            "description_tooltip": null,
            "layout": "IPY_MODEL_5e275109ed1a4984a9dbd3bdd4ab91a2",
            "placeholder": "​",
            "style": "IPY_MODEL_d8f65adc0ea2417a85f59fb450562b21",
            "value": " 50/50 [02:24&lt;00:00,  2.90s/it]"
          }
        },
        "f0c1f0d8c2ad416b85ea5a0e53740660": {
          "model_module": "@jupyter-widgets/base",
          "model_name": "LayoutModel",
          "model_module_version": "1.2.0",
          "state": {
            "_model_module": "@jupyter-widgets/base",
            "_model_module_version": "1.2.0",
            "_model_name": "LayoutModel",
            "_view_count": null,
            "_view_module": "@jupyter-widgets/base",
            "_view_module_version": "1.2.0",
            "_view_name": "LayoutView",
            "align_content": null,
            "align_items": null,
            "align_self": null,
            "border": null,
            "bottom": null,
            "display": null,
            "flex": null,
            "flex_flow": null,
            "grid_area": null,
            "grid_auto_columns": null,
            "grid_auto_flow": null,
            "grid_auto_rows": null,
            "grid_column": null,
            "grid_gap": null,
            "grid_row": null,
            "grid_template_areas": null,
            "grid_template_columns": null,
            "grid_template_rows": null,
            "height": null,
            "justify_content": null,
            "justify_items": null,
            "left": null,
            "margin": null,
            "max_height": null,
            "max_width": null,
            "min_height": null,
            "min_width": null,
            "object_fit": null,
            "object_position": null,
            "order": null,
            "overflow": null,
            "overflow_x": null,
            "overflow_y": null,
            "padding": null,
            "right": null,
            "top": null,
            "visibility": null,
            "width": null
          }
        },
        "dda70d72d9da4f3dbd2cf9db160ab906": {
          "model_module": "@jupyter-widgets/base",
          "model_name": "LayoutModel",
          "model_module_version": "1.2.0",
          "state": {
            "_model_module": "@jupyter-widgets/base",
            "_model_module_version": "1.2.0",
            "_model_name": "LayoutModel",
            "_view_count": null,
            "_view_module": "@jupyter-widgets/base",
            "_view_module_version": "1.2.0",
            "_view_name": "LayoutView",
            "align_content": null,
            "align_items": null,
            "align_self": null,
            "border": null,
            "bottom": null,
            "display": null,
            "flex": null,
            "flex_flow": null,
            "grid_area": null,
            "grid_auto_columns": null,
            "grid_auto_flow": null,
            "grid_auto_rows": null,
            "grid_column": null,
            "grid_gap": null,
            "grid_row": null,
            "grid_template_areas": null,
            "grid_template_columns": null,
            "grid_template_rows": null,
            "height": null,
            "justify_content": null,
            "justify_items": null,
            "left": null,
            "margin": null,
            "max_height": null,
            "max_width": null,
            "min_height": null,
            "min_width": null,
            "object_fit": null,
            "object_position": null,
            "order": null,
            "overflow": null,
            "overflow_x": null,
            "overflow_y": null,
            "padding": null,
            "right": null,
            "top": null,
            "visibility": null,
            "width": null
          }
        },
        "823751b11b2e4460817a3ffafd599f26": {
          "model_module": "@jupyter-widgets/controls",
          "model_name": "DescriptionStyleModel",
          "model_module_version": "1.5.0",
          "state": {
            "_model_module": "@jupyter-widgets/controls",
            "_model_module_version": "1.5.0",
            "_model_name": "DescriptionStyleModel",
            "_view_count": null,
            "_view_module": "@jupyter-widgets/base",
            "_view_module_version": "1.2.0",
            "_view_name": "StyleView",
            "description_width": ""
          }
        },
        "f5359a32c01743c28b636a35978c5752": {
          "model_module": "@jupyter-widgets/base",
          "model_name": "LayoutModel",
          "model_module_version": "1.2.0",
          "state": {
            "_model_module": "@jupyter-widgets/base",
            "_model_module_version": "1.2.0",
            "_model_name": "LayoutModel",
            "_view_count": null,
            "_view_module": "@jupyter-widgets/base",
            "_view_module_version": "1.2.0",
            "_view_name": "LayoutView",
            "align_content": null,
            "align_items": null,
            "align_self": null,
            "border": null,
            "bottom": null,
            "display": null,
            "flex": null,
            "flex_flow": null,
            "grid_area": null,
            "grid_auto_columns": null,
            "grid_auto_flow": null,
            "grid_auto_rows": null,
            "grid_column": null,
            "grid_gap": null,
            "grid_row": null,
            "grid_template_areas": null,
            "grid_template_columns": null,
            "grid_template_rows": null,
            "height": null,
            "justify_content": null,
            "justify_items": null,
            "left": null,
            "margin": null,
            "max_height": null,
            "max_width": null,
            "min_height": null,
            "min_width": null,
            "object_fit": null,
            "object_position": null,
            "order": null,
            "overflow": null,
            "overflow_x": null,
            "overflow_y": null,
            "padding": null,
            "right": null,
            "top": null,
            "visibility": null,
            "width": null
          }
        },
        "3bf7787010814161b42173e7e0682fbf": {
          "model_module": "@jupyter-widgets/controls",
          "model_name": "ProgressStyleModel",
          "model_module_version": "1.5.0",
          "state": {
            "_model_module": "@jupyter-widgets/controls",
            "_model_module_version": "1.5.0",
            "_model_name": "ProgressStyleModel",
            "_view_count": null,
            "_view_module": "@jupyter-widgets/base",
            "_view_module_version": "1.2.0",
            "_view_name": "StyleView",
            "bar_color": null,
            "description_width": ""
          }
        },
        "5e275109ed1a4984a9dbd3bdd4ab91a2": {
          "model_module": "@jupyter-widgets/base",
          "model_name": "LayoutModel",
          "model_module_version": "1.2.0",
          "state": {
            "_model_module": "@jupyter-widgets/base",
            "_model_module_version": "1.2.0",
            "_model_name": "LayoutModel",
            "_view_count": null,
            "_view_module": "@jupyter-widgets/base",
            "_view_module_version": "1.2.0",
            "_view_name": "LayoutView",
            "align_content": null,
            "align_items": null,
            "align_self": null,
            "border": null,
            "bottom": null,
            "display": null,
            "flex": null,
            "flex_flow": null,
            "grid_area": null,
            "grid_auto_columns": null,
            "grid_auto_flow": null,
            "grid_auto_rows": null,
            "grid_column": null,
            "grid_gap": null,
            "grid_row": null,
            "grid_template_areas": null,
            "grid_template_columns": null,
            "grid_template_rows": null,
            "height": null,
            "justify_content": null,
            "justify_items": null,
            "left": null,
            "margin": null,
            "max_height": null,
            "max_width": null,
            "min_height": null,
            "min_width": null,
            "object_fit": null,
            "object_position": null,
            "order": null,
            "overflow": null,
            "overflow_x": null,
            "overflow_y": null,
            "padding": null,
            "right": null,
            "top": null,
            "visibility": null,
            "width": null
          }
        },
        "d8f65adc0ea2417a85f59fb450562b21": {
          "model_module": "@jupyter-widgets/controls",
          "model_name": "DescriptionStyleModel",
          "model_module_version": "1.5.0",
          "state": {
            "_model_module": "@jupyter-widgets/controls",
            "_model_module_version": "1.5.0",
            "_model_name": "DescriptionStyleModel",
            "_view_count": null,
            "_view_module": "@jupyter-widgets/base",
            "_view_module_version": "1.2.0",
            "_view_name": "StyleView",
            "description_width": ""
          }
        },
        "4d45e4c416494c938659ef64f1d6e78c": {
          "model_module": "@jupyter-widgets/controls",
          "model_name": "HBoxModel",
          "model_module_version": "1.5.0",
          "state": {
            "_dom_classes": [],
            "_model_module": "@jupyter-widgets/controls",
            "_model_module_version": "1.5.0",
            "_model_name": "HBoxModel",
            "_view_count": null,
            "_view_module": "@jupyter-widgets/controls",
            "_view_module_version": "1.5.0",
            "_view_name": "HBoxView",
            "box_style": "",
            "children": [
              "IPY_MODEL_cd0259efb96d49259aacf52b2431318e",
              "IPY_MODEL_df9f4a2112af4d7a8afa296debd7d0bb",
              "IPY_MODEL_54d14c930e5e462d972e9883b5c72fae"
            ],
            "layout": "IPY_MODEL_e1f6da6d7fc5474b97644b323eb46dba"
          }
        },
        "cd0259efb96d49259aacf52b2431318e": {
          "model_module": "@jupyter-widgets/controls",
          "model_name": "HTMLModel",
          "model_module_version": "1.5.0",
          "state": {
            "_dom_classes": [],
            "_model_module": "@jupyter-widgets/controls",
            "_model_module_version": "1.5.0",
            "_model_name": "HTMLModel",
            "_view_count": null,
            "_view_module": "@jupyter-widgets/controls",
            "_view_module_version": "1.5.0",
            "_view_name": "HTMLView",
            "description": "",
            "description_tooltip": null,
            "layout": "IPY_MODEL_bbf5dd425da1409fa92c8882290fd446",
            "placeholder": "​",
            "style": "IPY_MODEL_16ff1ead090043d1a8ccc2fada8b6604",
            "value": "100%"
          }
        },
        "df9f4a2112af4d7a8afa296debd7d0bb": {
          "model_module": "@jupyter-widgets/controls",
          "model_name": "FloatProgressModel",
          "model_module_version": "1.5.0",
          "state": {
            "_dom_classes": [],
            "_model_module": "@jupyter-widgets/controls",
            "_model_module_version": "1.5.0",
            "_model_name": "FloatProgressModel",
            "_view_count": null,
            "_view_module": "@jupyter-widgets/controls",
            "_view_module_version": "1.5.0",
            "_view_name": "ProgressView",
            "bar_style": "success",
            "description": "",
            "description_tooltip": null,
            "layout": "IPY_MODEL_33a57bf2c7184d57ae7e5287e9829b64",
            "max": 20,
            "min": 0,
            "orientation": "horizontal",
            "style": "IPY_MODEL_a7545e9d45694aa49965f08160743bc1",
            "value": 20
          }
        },
        "54d14c930e5e462d972e9883b5c72fae": {
          "model_module": "@jupyter-widgets/controls",
          "model_name": "HTMLModel",
          "model_module_version": "1.5.0",
          "state": {
            "_dom_classes": [],
            "_model_module": "@jupyter-widgets/controls",
            "_model_module_version": "1.5.0",
            "_model_name": "HTMLModel",
            "_view_count": null,
            "_view_module": "@jupyter-widgets/controls",
            "_view_module_version": "1.5.0",
            "_view_name": "HTMLView",
            "description": "",
            "description_tooltip": null,
            "layout": "IPY_MODEL_bff13b90c35a4c798a02754ca47b7052",
            "placeholder": "​",
            "style": "IPY_MODEL_bfc45eb572094d9680374f54402cc8d3",
            "value": " 20/20 [01:44&lt;00:00,  5.19s/it]"
          }
        },
        "e1f6da6d7fc5474b97644b323eb46dba": {
          "model_module": "@jupyter-widgets/base",
          "model_name": "LayoutModel",
          "model_module_version": "1.2.0",
          "state": {
            "_model_module": "@jupyter-widgets/base",
            "_model_module_version": "1.2.0",
            "_model_name": "LayoutModel",
            "_view_count": null,
            "_view_module": "@jupyter-widgets/base",
            "_view_module_version": "1.2.0",
            "_view_name": "LayoutView",
            "align_content": null,
            "align_items": null,
            "align_self": null,
            "border": null,
            "bottom": null,
            "display": null,
            "flex": null,
            "flex_flow": null,
            "grid_area": null,
            "grid_auto_columns": null,
            "grid_auto_flow": null,
            "grid_auto_rows": null,
            "grid_column": null,
            "grid_gap": null,
            "grid_row": null,
            "grid_template_areas": null,
            "grid_template_columns": null,
            "grid_template_rows": null,
            "height": null,
            "justify_content": null,
            "justify_items": null,
            "left": null,
            "margin": null,
            "max_height": null,
            "max_width": null,
            "min_height": null,
            "min_width": null,
            "object_fit": null,
            "object_position": null,
            "order": null,
            "overflow": null,
            "overflow_x": null,
            "overflow_y": null,
            "padding": null,
            "right": null,
            "top": null,
            "visibility": null,
            "width": null
          }
        },
        "bbf5dd425da1409fa92c8882290fd446": {
          "model_module": "@jupyter-widgets/base",
          "model_name": "LayoutModel",
          "model_module_version": "1.2.0",
          "state": {
            "_model_module": "@jupyter-widgets/base",
            "_model_module_version": "1.2.0",
            "_model_name": "LayoutModel",
            "_view_count": null,
            "_view_module": "@jupyter-widgets/base",
            "_view_module_version": "1.2.0",
            "_view_name": "LayoutView",
            "align_content": null,
            "align_items": null,
            "align_self": null,
            "border": null,
            "bottom": null,
            "display": null,
            "flex": null,
            "flex_flow": null,
            "grid_area": null,
            "grid_auto_columns": null,
            "grid_auto_flow": null,
            "grid_auto_rows": null,
            "grid_column": null,
            "grid_gap": null,
            "grid_row": null,
            "grid_template_areas": null,
            "grid_template_columns": null,
            "grid_template_rows": null,
            "height": null,
            "justify_content": null,
            "justify_items": null,
            "left": null,
            "margin": null,
            "max_height": null,
            "max_width": null,
            "min_height": null,
            "min_width": null,
            "object_fit": null,
            "object_position": null,
            "order": null,
            "overflow": null,
            "overflow_x": null,
            "overflow_y": null,
            "padding": null,
            "right": null,
            "top": null,
            "visibility": null,
            "width": null
          }
        },
        "16ff1ead090043d1a8ccc2fada8b6604": {
          "model_module": "@jupyter-widgets/controls",
          "model_name": "DescriptionStyleModel",
          "model_module_version": "1.5.0",
          "state": {
            "_model_module": "@jupyter-widgets/controls",
            "_model_module_version": "1.5.0",
            "_model_name": "DescriptionStyleModel",
            "_view_count": null,
            "_view_module": "@jupyter-widgets/base",
            "_view_module_version": "1.2.0",
            "_view_name": "StyleView",
            "description_width": ""
          }
        },
        "33a57bf2c7184d57ae7e5287e9829b64": {
          "model_module": "@jupyter-widgets/base",
          "model_name": "LayoutModel",
          "model_module_version": "1.2.0",
          "state": {
            "_model_module": "@jupyter-widgets/base",
            "_model_module_version": "1.2.0",
            "_model_name": "LayoutModel",
            "_view_count": null,
            "_view_module": "@jupyter-widgets/base",
            "_view_module_version": "1.2.0",
            "_view_name": "LayoutView",
            "align_content": null,
            "align_items": null,
            "align_self": null,
            "border": null,
            "bottom": null,
            "display": null,
            "flex": null,
            "flex_flow": null,
            "grid_area": null,
            "grid_auto_columns": null,
            "grid_auto_flow": null,
            "grid_auto_rows": null,
            "grid_column": null,
            "grid_gap": null,
            "grid_row": null,
            "grid_template_areas": null,
            "grid_template_columns": null,
            "grid_template_rows": null,
            "height": null,
            "justify_content": null,
            "justify_items": null,
            "left": null,
            "margin": null,
            "max_height": null,
            "max_width": null,
            "min_height": null,
            "min_width": null,
            "object_fit": null,
            "object_position": null,
            "order": null,
            "overflow": null,
            "overflow_x": null,
            "overflow_y": null,
            "padding": null,
            "right": null,
            "top": null,
            "visibility": null,
            "width": null
          }
        },
        "a7545e9d45694aa49965f08160743bc1": {
          "model_module": "@jupyter-widgets/controls",
          "model_name": "ProgressStyleModel",
          "model_module_version": "1.5.0",
          "state": {
            "_model_module": "@jupyter-widgets/controls",
            "_model_module_version": "1.5.0",
            "_model_name": "ProgressStyleModel",
            "_view_count": null,
            "_view_module": "@jupyter-widgets/base",
            "_view_module_version": "1.2.0",
            "_view_name": "StyleView",
            "bar_color": null,
            "description_width": ""
          }
        },
        "bff13b90c35a4c798a02754ca47b7052": {
          "model_module": "@jupyter-widgets/base",
          "model_name": "LayoutModel",
          "model_module_version": "1.2.0",
          "state": {
            "_model_module": "@jupyter-widgets/base",
            "_model_module_version": "1.2.0",
            "_model_name": "LayoutModel",
            "_view_count": null,
            "_view_module": "@jupyter-widgets/base",
            "_view_module_version": "1.2.0",
            "_view_name": "LayoutView",
            "align_content": null,
            "align_items": null,
            "align_self": null,
            "border": null,
            "bottom": null,
            "display": null,
            "flex": null,
            "flex_flow": null,
            "grid_area": null,
            "grid_auto_columns": null,
            "grid_auto_flow": null,
            "grid_auto_rows": null,
            "grid_column": null,
            "grid_gap": null,
            "grid_row": null,
            "grid_template_areas": null,
            "grid_template_columns": null,
            "grid_template_rows": null,
            "height": null,
            "justify_content": null,
            "justify_items": null,
            "left": null,
            "margin": null,
            "max_height": null,
            "max_width": null,
            "min_height": null,
            "min_width": null,
            "object_fit": null,
            "object_position": null,
            "order": null,
            "overflow": null,
            "overflow_x": null,
            "overflow_y": null,
            "padding": null,
            "right": null,
            "top": null,
            "visibility": null,
            "width": null
          }
        },
        "bfc45eb572094d9680374f54402cc8d3": {
          "model_module": "@jupyter-widgets/controls",
          "model_name": "DescriptionStyleModel",
          "model_module_version": "1.5.0",
          "state": {
            "_model_module": "@jupyter-widgets/controls",
            "_model_module_version": "1.5.0",
            "_model_name": "DescriptionStyleModel",
            "_view_count": null,
            "_view_module": "@jupyter-widgets/base",
            "_view_module_version": "1.2.0",
            "_view_name": "StyleView",
            "description_width": ""
          }
        },
        "28faf73ac96d4333953e44ab15fa0398": {
          "model_module": "@jupyter-widgets/controls",
          "model_name": "HBoxModel",
          "model_module_version": "1.5.0",
          "state": {
            "_dom_classes": [],
            "_model_module": "@jupyter-widgets/controls",
            "_model_module_version": "1.5.0",
            "_model_name": "HBoxModel",
            "_view_count": null,
            "_view_module": "@jupyter-widgets/controls",
            "_view_module_version": "1.5.0",
            "_view_name": "HBoxView",
            "box_style": "",
            "children": [
              "IPY_MODEL_00790250891a4b8e8a7455cc177512a6",
              "IPY_MODEL_b4f4f76dcc294e69a368af8ced8ac828",
              "IPY_MODEL_29d5da031dd945b0be7387ea0d228f08"
            ],
            "layout": "IPY_MODEL_59490d03e14d4b668060403fb621c281"
          }
        },
        "00790250891a4b8e8a7455cc177512a6": {
          "model_module": "@jupyter-widgets/controls",
          "model_name": "HTMLModel",
          "model_module_version": "1.5.0",
          "state": {
            "_dom_classes": [],
            "_model_module": "@jupyter-widgets/controls",
            "_model_module_version": "1.5.0",
            "_model_name": "HTMLModel",
            "_view_count": null,
            "_view_module": "@jupyter-widgets/controls",
            "_view_module_version": "1.5.0",
            "_view_name": "HTMLView",
            "description": "",
            "description_tooltip": null,
            "layout": "IPY_MODEL_1eb3d31353854812af76729eb81743aa",
            "placeholder": "​",
            "style": "IPY_MODEL_986cae8d21cc4b70a0be68782bd342f7",
            "value": "100%"
          }
        },
        "b4f4f76dcc294e69a368af8ced8ac828": {
          "model_module": "@jupyter-widgets/controls",
          "model_name": "FloatProgressModel",
          "model_module_version": "1.5.0",
          "state": {
            "_dom_classes": [],
            "_model_module": "@jupyter-widgets/controls",
            "_model_module_version": "1.5.0",
            "_model_name": "FloatProgressModel",
            "_view_count": null,
            "_view_module": "@jupyter-widgets/controls",
            "_view_module_version": "1.5.0",
            "_view_name": "ProgressView",
            "bar_style": "success",
            "description": "",
            "description_tooltip": null,
            "layout": "IPY_MODEL_289bb73180df448f9d204c97e957dd09",
            "max": 50,
            "min": 0,
            "orientation": "horizontal",
            "style": "IPY_MODEL_6b280073506b4ce6894b18ab4ad49cf3",
            "value": 50
          }
        },
        "29d5da031dd945b0be7387ea0d228f08": {
          "model_module": "@jupyter-widgets/controls",
          "model_name": "HTMLModel",
          "model_module_version": "1.5.0",
          "state": {
            "_dom_classes": [],
            "_model_module": "@jupyter-widgets/controls",
            "_model_module_version": "1.5.0",
            "_model_name": "HTMLModel",
            "_view_count": null,
            "_view_module": "@jupyter-widgets/controls",
            "_view_module_version": "1.5.0",
            "_view_name": "HTMLView",
            "description": "",
            "description_tooltip": null,
            "layout": "IPY_MODEL_eb6c4216322441c18e915bb3e05c06cc",
            "placeholder": "​",
            "style": "IPY_MODEL_7c1a31a2fd864f5682eccd07e1b46814",
            "value": " 50/50 [02:07&lt;00:00,  2.80s/it]"
          }
        },
        "59490d03e14d4b668060403fb621c281": {
          "model_module": "@jupyter-widgets/base",
          "model_name": "LayoutModel",
          "model_module_version": "1.2.0",
          "state": {
            "_model_module": "@jupyter-widgets/base",
            "_model_module_version": "1.2.0",
            "_model_name": "LayoutModel",
            "_view_count": null,
            "_view_module": "@jupyter-widgets/base",
            "_view_module_version": "1.2.0",
            "_view_name": "LayoutView",
            "align_content": null,
            "align_items": null,
            "align_self": null,
            "border": null,
            "bottom": null,
            "display": null,
            "flex": null,
            "flex_flow": null,
            "grid_area": null,
            "grid_auto_columns": null,
            "grid_auto_flow": null,
            "grid_auto_rows": null,
            "grid_column": null,
            "grid_gap": null,
            "grid_row": null,
            "grid_template_areas": null,
            "grid_template_columns": null,
            "grid_template_rows": null,
            "height": null,
            "justify_content": null,
            "justify_items": null,
            "left": null,
            "margin": null,
            "max_height": null,
            "max_width": null,
            "min_height": null,
            "min_width": null,
            "object_fit": null,
            "object_position": null,
            "order": null,
            "overflow": null,
            "overflow_x": null,
            "overflow_y": null,
            "padding": null,
            "right": null,
            "top": null,
            "visibility": null,
            "width": null
          }
        },
        "1eb3d31353854812af76729eb81743aa": {
          "model_module": "@jupyter-widgets/base",
          "model_name": "LayoutModel",
          "model_module_version": "1.2.0",
          "state": {
            "_model_module": "@jupyter-widgets/base",
            "_model_module_version": "1.2.0",
            "_model_name": "LayoutModel",
            "_view_count": null,
            "_view_module": "@jupyter-widgets/base",
            "_view_module_version": "1.2.0",
            "_view_name": "LayoutView",
            "align_content": null,
            "align_items": null,
            "align_self": null,
            "border": null,
            "bottom": null,
            "display": null,
            "flex": null,
            "flex_flow": null,
            "grid_area": null,
            "grid_auto_columns": null,
            "grid_auto_flow": null,
            "grid_auto_rows": null,
            "grid_column": null,
            "grid_gap": null,
            "grid_row": null,
            "grid_template_areas": null,
            "grid_template_columns": null,
            "grid_template_rows": null,
            "height": null,
            "justify_content": null,
            "justify_items": null,
            "left": null,
            "margin": null,
            "max_height": null,
            "max_width": null,
            "min_height": null,
            "min_width": null,
            "object_fit": null,
            "object_position": null,
            "order": null,
            "overflow": null,
            "overflow_x": null,
            "overflow_y": null,
            "padding": null,
            "right": null,
            "top": null,
            "visibility": null,
            "width": null
          }
        },
        "986cae8d21cc4b70a0be68782bd342f7": {
          "model_module": "@jupyter-widgets/controls",
          "model_name": "DescriptionStyleModel",
          "model_module_version": "1.5.0",
          "state": {
            "_model_module": "@jupyter-widgets/controls",
            "_model_module_version": "1.5.0",
            "_model_name": "DescriptionStyleModel",
            "_view_count": null,
            "_view_module": "@jupyter-widgets/base",
            "_view_module_version": "1.2.0",
            "_view_name": "StyleView",
            "description_width": ""
          }
        },
        "289bb73180df448f9d204c97e957dd09": {
          "model_module": "@jupyter-widgets/base",
          "model_name": "LayoutModel",
          "model_module_version": "1.2.0",
          "state": {
            "_model_module": "@jupyter-widgets/base",
            "_model_module_version": "1.2.0",
            "_model_name": "LayoutModel",
            "_view_count": null,
            "_view_module": "@jupyter-widgets/base",
            "_view_module_version": "1.2.0",
            "_view_name": "LayoutView",
            "align_content": null,
            "align_items": null,
            "align_self": null,
            "border": null,
            "bottom": null,
            "display": null,
            "flex": null,
            "flex_flow": null,
            "grid_area": null,
            "grid_auto_columns": null,
            "grid_auto_flow": null,
            "grid_auto_rows": null,
            "grid_column": null,
            "grid_gap": null,
            "grid_row": null,
            "grid_template_areas": null,
            "grid_template_columns": null,
            "grid_template_rows": null,
            "height": null,
            "justify_content": null,
            "justify_items": null,
            "left": null,
            "margin": null,
            "max_height": null,
            "max_width": null,
            "min_height": null,
            "min_width": null,
            "object_fit": null,
            "object_position": null,
            "order": null,
            "overflow": null,
            "overflow_x": null,
            "overflow_y": null,
            "padding": null,
            "right": null,
            "top": null,
            "visibility": null,
            "width": null
          }
        },
        "6b280073506b4ce6894b18ab4ad49cf3": {
          "model_module": "@jupyter-widgets/controls",
          "model_name": "ProgressStyleModel",
          "model_module_version": "1.5.0",
          "state": {
            "_model_module": "@jupyter-widgets/controls",
            "_model_module_version": "1.5.0",
            "_model_name": "ProgressStyleModel",
            "_view_count": null,
            "_view_module": "@jupyter-widgets/base",
            "_view_module_version": "1.2.0",
            "_view_name": "StyleView",
            "bar_color": null,
            "description_width": ""
          }
        },
        "eb6c4216322441c18e915bb3e05c06cc": {
          "model_module": "@jupyter-widgets/base",
          "model_name": "LayoutModel",
          "model_module_version": "1.2.0",
          "state": {
            "_model_module": "@jupyter-widgets/base",
            "_model_module_version": "1.2.0",
            "_model_name": "LayoutModel",
            "_view_count": null,
            "_view_module": "@jupyter-widgets/base",
            "_view_module_version": "1.2.0",
            "_view_name": "LayoutView",
            "align_content": null,
            "align_items": null,
            "align_self": null,
            "border": null,
            "bottom": null,
            "display": null,
            "flex": null,
            "flex_flow": null,
            "grid_area": null,
            "grid_auto_columns": null,
            "grid_auto_flow": null,
            "grid_auto_rows": null,
            "grid_column": null,
            "grid_gap": null,
            "grid_row": null,
            "grid_template_areas": null,
            "grid_template_columns": null,
            "grid_template_rows": null,
            "height": null,
            "justify_content": null,
            "justify_items": null,
            "left": null,
            "margin": null,
            "max_height": null,
            "max_width": null,
            "min_height": null,
            "min_width": null,
            "object_fit": null,
            "object_position": null,
            "order": null,
            "overflow": null,
            "overflow_x": null,
            "overflow_y": null,
            "padding": null,
            "right": null,
            "top": null,
            "visibility": null,
            "width": null
          }
        },
        "7c1a31a2fd864f5682eccd07e1b46814": {
          "model_module": "@jupyter-widgets/controls",
          "model_name": "DescriptionStyleModel",
          "model_module_version": "1.5.0",
          "state": {
            "_model_module": "@jupyter-widgets/controls",
            "_model_module_version": "1.5.0",
            "_model_name": "DescriptionStyleModel",
            "_view_count": null,
            "_view_module": "@jupyter-widgets/base",
            "_view_module_version": "1.2.0",
            "_view_name": "StyleView",
            "description_width": ""
          }
        },
        "c8cd1aa54e08410cbbb4b00a6d6c78b8": {
          "model_module": "@jupyter-widgets/controls",
          "model_name": "HBoxModel",
          "model_module_version": "1.5.0",
          "state": {
            "_dom_classes": [],
            "_model_module": "@jupyter-widgets/controls",
            "_model_module_version": "1.5.0",
            "_model_name": "HBoxModel",
            "_view_count": null,
            "_view_module": "@jupyter-widgets/controls",
            "_view_module_version": "1.5.0",
            "_view_name": "HBoxView",
            "box_style": "",
            "children": [
              "IPY_MODEL_d98556a082c94de19531f2820ac245ab",
              "IPY_MODEL_57fa0c1553d449fb87f0d0563c57f233",
              "IPY_MODEL_338c660b0a2247b3a7e2aa3c1c711f09"
            ],
            "layout": "IPY_MODEL_381532736e5444c388b7f48f093f4912"
          }
        },
        "d98556a082c94de19531f2820ac245ab": {
          "model_module": "@jupyter-widgets/controls",
          "model_name": "HTMLModel",
          "model_module_version": "1.5.0",
          "state": {
            "_dom_classes": [],
            "_model_module": "@jupyter-widgets/controls",
            "_model_module_version": "1.5.0",
            "_model_name": "HTMLModel",
            "_view_count": null,
            "_view_module": "@jupyter-widgets/controls",
            "_view_module_version": "1.5.0",
            "_view_name": "HTMLView",
            "description": "",
            "description_tooltip": null,
            "layout": "IPY_MODEL_7059b1d46950465d8d1cfa232e31eee5",
            "placeholder": "​",
            "style": "IPY_MODEL_07908f5f999a4ff08550c064145807dc",
            "value": "100%"
          }
        },
        "57fa0c1553d449fb87f0d0563c57f233": {
          "model_module": "@jupyter-widgets/controls",
          "model_name": "FloatProgressModel",
          "model_module_version": "1.5.0",
          "state": {
            "_dom_classes": [],
            "_model_module": "@jupyter-widgets/controls",
            "_model_module_version": "1.5.0",
            "_model_name": "FloatProgressModel",
            "_view_count": null,
            "_view_module": "@jupyter-widgets/controls",
            "_view_module_version": "1.5.0",
            "_view_name": "ProgressView",
            "bar_style": "success",
            "description": "",
            "description_tooltip": null,
            "layout": "IPY_MODEL_e1bba9d77ef041e3bf96a228a2339701",
            "max": 50,
            "min": 0,
            "orientation": "horizontal",
            "style": "IPY_MODEL_b8b02a1e2bbd4d7892b13762a5297968",
            "value": 50
          }
        },
        "338c660b0a2247b3a7e2aa3c1c711f09": {
          "model_module": "@jupyter-widgets/controls",
          "model_name": "HTMLModel",
          "model_module_version": "1.5.0",
          "state": {
            "_dom_classes": [],
            "_model_module": "@jupyter-widgets/controls",
            "_model_module_version": "1.5.0",
            "_model_name": "HTMLModel",
            "_view_count": null,
            "_view_module": "@jupyter-widgets/controls",
            "_view_module_version": "1.5.0",
            "_view_name": "HTMLView",
            "description": "",
            "description_tooltip": null,
            "layout": "IPY_MODEL_1e97140989dd45a7af6a27eabe918a16",
            "placeholder": "​",
            "style": "IPY_MODEL_3ad97b39223648e19d86133b37f9a85e",
            "value": " 50/50 [05:26&lt;00:00,  6.43s/it]"
          }
        },
        "381532736e5444c388b7f48f093f4912": {
          "model_module": "@jupyter-widgets/base",
          "model_name": "LayoutModel",
          "model_module_version": "1.2.0",
          "state": {
            "_model_module": "@jupyter-widgets/base",
            "_model_module_version": "1.2.0",
            "_model_name": "LayoutModel",
            "_view_count": null,
            "_view_module": "@jupyter-widgets/base",
            "_view_module_version": "1.2.0",
            "_view_name": "LayoutView",
            "align_content": null,
            "align_items": null,
            "align_self": null,
            "border": null,
            "bottom": null,
            "display": null,
            "flex": null,
            "flex_flow": null,
            "grid_area": null,
            "grid_auto_columns": null,
            "grid_auto_flow": null,
            "grid_auto_rows": null,
            "grid_column": null,
            "grid_gap": null,
            "grid_row": null,
            "grid_template_areas": null,
            "grid_template_columns": null,
            "grid_template_rows": null,
            "height": null,
            "justify_content": null,
            "justify_items": null,
            "left": null,
            "margin": null,
            "max_height": null,
            "max_width": null,
            "min_height": null,
            "min_width": null,
            "object_fit": null,
            "object_position": null,
            "order": null,
            "overflow": null,
            "overflow_x": null,
            "overflow_y": null,
            "padding": null,
            "right": null,
            "top": null,
            "visibility": null,
            "width": null
          }
        },
        "7059b1d46950465d8d1cfa232e31eee5": {
          "model_module": "@jupyter-widgets/base",
          "model_name": "LayoutModel",
          "model_module_version": "1.2.0",
          "state": {
            "_model_module": "@jupyter-widgets/base",
            "_model_module_version": "1.2.0",
            "_model_name": "LayoutModel",
            "_view_count": null,
            "_view_module": "@jupyter-widgets/base",
            "_view_module_version": "1.2.0",
            "_view_name": "LayoutView",
            "align_content": null,
            "align_items": null,
            "align_self": null,
            "border": null,
            "bottom": null,
            "display": null,
            "flex": null,
            "flex_flow": null,
            "grid_area": null,
            "grid_auto_columns": null,
            "grid_auto_flow": null,
            "grid_auto_rows": null,
            "grid_column": null,
            "grid_gap": null,
            "grid_row": null,
            "grid_template_areas": null,
            "grid_template_columns": null,
            "grid_template_rows": null,
            "height": null,
            "justify_content": null,
            "justify_items": null,
            "left": null,
            "margin": null,
            "max_height": null,
            "max_width": null,
            "min_height": null,
            "min_width": null,
            "object_fit": null,
            "object_position": null,
            "order": null,
            "overflow": null,
            "overflow_x": null,
            "overflow_y": null,
            "padding": null,
            "right": null,
            "top": null,
            "visibility": null,
            "width": null
          }
        },
        "07908f5f999a4ff08550c064145807dc": {
          "model_module": "@jupyter-widgets/controls",
          "model_name": "DescriptionStyleModel",
          "model_module_version": "1.5.0",
          "state": {
            "_model_module": "@jupyter-widgets/controls",
            "_model_module_version": "1.5.0",
            "_model_name": "DescriptionStyleModel",
            "_view_count": null,
            "_view_module": "@jupyter-widgets/base",
            "_view_module_version": "1.2.0",
            "_view_name": "StyleView",
            "description_width": ""
          }
        },
        "e1bba9d77ef041e3bf96a228a2339701": {
          "model_module": "@jupyter-widgets/base",
          "model_name": "LayoutModel",
          "model_module_version": "1.2.0",
          "state": {
            "_model_module": "@jupyter-widgets/base",
            "_model_module_version": "1.2.0",
            "_model_name": "LayoutModel",
            "_view_count": null,
            "_view_module": "@jupyter-widgets/base",
            "_view_module_version": "1.2.0",
            "_view_name": "LayoutView",
            "align_content": null,
            "align_items": null,
            "align_self": null,
            "border": null,
            "bottom": null,
            "display": null,
            "flex": null,
            "flex_flow": null,
            "grid_area": null,
            "grid_auto_columns": null,
            "grid_auto_flow": null,
            "grid_auto_rows": null,
            "grid_column": null,
            "grid_gap": null,
            "grid_row": null,
            "grid_template_areas": null,
            "grid_template_columns": null,
            "grid_template_rows": null,
            "height": null,
            "justify_content": null,
            "justify_items": null,
            "left": null,
            "margin": null,
            "max_height": null,
            "max_width": null,
            "min_height": null,
            "min_width": null,
            "object_fit": null,
            "object_position": null,
            "order": null,
            "overflow": null,
            "overflow_x": null,
            "overflow_y": null,
            "padding": null,
            "right": null,
            "top": null,
            "visibility": null,
            "width": null
          }
        },
        "b8b02a1e2bbd4d7892b13762a5297968": {
          "model_module": "@jupyter-widgets/controls",
          "model_name": "ProgressStyleModel",
          "model_module_version": "1.5.0",
          "state": {
            "_model_module": "@jupyter-widgets/controls",
            "_model_module_version": "1.5.0",
            "_model_name": "ProgressStyleModel",
            "_view_count": null,
            "_view_module": "@jupyter-widgets/base",
            "_view_module_version": "1.2.0",
            "_view_name": "StyleView",
            "bar_color": null,
            "description_width": ""
          }
        },
        "1e97140989dd45a7af6a27eabe918a16": {
          "model_module": "@jupyter-widgets/base",
          "model_name": "LayoutModel",
          "model_module_version": "1.2.0",
          "state": {
            "_model_module": "@jupyter-widgets/base",
            "_model_module_version": "1.2.0",
            "_model_name": "LayoutModel",
            "_view_count": null,
            "_view_module": "@jupyter-widgets/base",
            "_view_module_version": "1.2.0",
            "_view_name": "LayoutView",
            "align_content": null,
            "align_items": null,
            "align_self": null,
            "border": null,
            "bottom": null,
            "display": null,
            "flex": null,
            "flex_flow": null,
            "grid_area": null,
            "grid_auto_columns": null,
            "grid_auto_flow": null,
            "grid_auto_rows": null,
            "grid_column": null,
            "grid_gap": null,
            "grid_row": null,
            "grid_template_areas": null,
            "grid_template_columns": null,
            "grid_template_rows": null,
            "height": null,
            "justify_content": null,
            "justify_items": null,
            "left": null,
            "margin": null,
            "max_height": null,
            "max_width": null,
            "min_height": null,
            "min_width": null,
            "object_fit": null,
            "object_position": null,
            "order": null,
            "overflow": null,
            "overflow_x": null,
            "overflow_y": null,
            "padding": null,
            "right": null,
            "top": null,
            "visibility": null,
            "width": null
          }
        },
        "3ad97b39223648e19d86133b37f9a85e": {
          "model_module": "@jupyter-widgets/controls",
          "model_name": "DescriptionStyleModel",
          "model_module_version": "1.5.0",
          "state": {
            "_model_module": "@jupyter-widgets/controls",
            "_model_module_version": "1.5.0",
            "_model_name": "DescriptionStyleModel",
            "_view_count": null,
            "_view_module": "@jupyter-widgets/base",
            "_view_module_version": "1.2.0",
            "_view_name": "StyleView",
            "description_width": ""
          }
        }
      }
    }
  },
  "cells": [
    {
      "cell_type": "markdown",
      "metadata": {
        "id": "view-in-github",
        "colab_type": "text"
      },
      "source": [
        "<a href=\"https://colab.research.google.com/github/UzunDemir/9_matrix_knn/blob/main/9_6_practic_work.ipynb\" target=\"_parent\"><img src=\"https://colab.research.google.com/assets/colab-badge.svg\" alt=\"Open In Colab\"/></a>"
      ]
    },
    {
      "cell_type": "markdown",
      "source": [
        "# 9.6 Практическая работа\n",
        "## Цель практической работы\n",
        "\n",
        "Научиться:\n",
        "\n",
        "* применять метод матричного разложения для задачи рекомендательных систем;\n",
        "* раскладывать матрицу оценок, используя метод матричного разложения;\n",
        "* рассчитывать метрику mAP.\n",
        "\n",
        "\n",
        "## Что входит в работу\n",
        "* Создать user-item-матрицу и разбить данные на тест и контроль результатов.\n",
        "* Создать бейзлайны и рассчитать метрики.\n",
        "* Применить метод матричной факторизации и улучшить параметры алгоритма факторизации.\n"
      ],
      "metadata": {
        "id": "sn-vJgXzdolz"
      }
    },
    {
      "cell_type": "markdown",
      "source": [
        "## Задание 1. Создание user-item-матрицы и разбиение данных на тест и контроль результатов\n",
        "### Что нужно сделать\n",
        "\n",
        "Постройте user-item-матрицу на основе данных о прочитанных книгах из таблицы [ratings.csv](https://drive.google.com/file/d/1BLR_z7h2OQ6ISUVLjVApWLeqRR8EDUAS/view).\n",
        "\n",
        "1. Подключите библиотеку Implicit. Для лучшей работы с библиотекой переведите данные рейтинга в бинарные оценки: 1 — книга понравилась, 0 — книга не понравилась. Необходимо предсказать, понравится ли конкретная книга заданному пользователю, то есть высчитать implicit-оценки.\n",
        "2. Для дальнейшей оценки качества разбейте данные на тест и контроль. Так как в данных нет настоящей даты прочтения, воспользуйтесь обходным способом:\n",
        "3. Пронумеруйте для каждого пользователя его прочитанные книги согласно расположению книг по порядку.\n",
        "4. Переведите номера прочитанных книг в доли по формуле «порядковый номер / общее количество прочитанных пользователем книг».\n",
        "5. Определите, какое количество данных вы оставите на обучение, какое — на контроль. Например, 70% книг каждого пользователя — на обучение.\n",
        "6. На основе данных для обучения постройте user-item-матрицу.\n",
        "7. Посмотрите, сколько в матрице столбцов и строк. Совпадает ли их количество с числом уникальных пользователей и книг?\n",
        "8. Выведите список названий книг с высокой оценкой для любого из пользователей.\n",
        "9. Запомните индекс пользователя, он пригодится далее."
      ],
      "metadata": {
        "id": "mBNFsnHqdv3b"
      }
    },
    {
      "cell_type": "code",
      "execution_count": 1,
      "metadata": {
        "colab": {
          "base_uri": "https://localhost:8080/",
          "height": 105
        },
        "id": "GU_PcqoBb9-d",
        "outputId": "80cb3001-6ab0-4214-d831-3ecbb774f25f"
      },
      "outputs": [
        {
          "output_type": "stream",
          "name": "stderr",
          "text": [
            "Downloading...\n",
            "From: https://drive.google.com/uc?id=1BLR_z7h2OQ6ISUVLjVApWLeqRR8EDUAS\n",
            "To: /content/ratings.csv\n",
            "100%|██████████| 72.1M/72.1M [00:04<00:00, 16.0MB/s]\n"
          ]
        },
        {
          "output_type": "execute_result",
          "data": {
            "text/plain": [
              "'ratings.csv'"
            ],
            "application/vnd.google.colaboratory.intrinsic+json": {
              "type": "string"
            }
          },
          "metadata": {},
          "execution_count": 1
        }
      ],
      "source": [
        "import gdown\n",
        "\n",
        "# URL вашего файла\n",
        "url = \"https://drive.google.com/uc?id=1BLR_z7h2OQ6ISUVLjVApWLeqRR8EDUAS\"\n",
        "\n",
        "# Путь для сохранения файла\n",
        "output = \"ratings.csv\"\n",
        "\n",
        "gdown.download(url, output, quiet=False)\n"
      ]
    },
    {
      "cell_type": "code",
      "source": [
        "import pandas as pd\n",
        "\n",
        "# Открываем файл в DataFrame\n",
        "df = pd.read_csv('/content/ratings.csv')\n",
        "\n",
        "# Выводим первые несколько строк DataFrame для проверки\n",
        "df.head()\n"
      ],
      "metadata": {
        "colab": {
          "base_uri": "https://localhost:8080/",
          "height": 206
        },
        "id": "cAQQdQE0cwO9",
        "outputId": "c2ff68e6-16e5-4fb7-9ced-7037d8231b8d"
      },
      "execution_count": 3,
      "outputs": [
        {
          "output_type": "execute_result",
          "data": {
            "text/plain": [
              "   user_id  book_id  rating\n",
              "0        1      258       5\n",
              "1        2     4081       4\n",
              "2        2      260       5\n",
              "3        2     9296       5\n",
              "4        2     2318       3"
            ],
            "text/html": [
              "\n",
              "  <div id=\"df-704d978d-0f2d-4556-8b42-f2de92b556eb\" class=\"colab-df-container\">\n",
              "    <div>\n",
              "<style scoped>\n",
              "    .dataframe tbody tr th:only-of-type {\n",
              "        vertical-align: middle;\n",
              "    }\n",
              "\n",
              "    .dataframe tbody tr th {\n",
              "        vertical-align: top;\n",
              "    }\n",
              "\n",
              "    .dataframe thead th {\n",
              "        text-align: right;\n",
              "    }\n",
              "</style>\n",
              "<table border=\"1\" class=\"dataframe\">\n",
              "  <thead>\n",
              "    <tr style=\"text-align: right;\">\n",
              "      <th></th>\n",
              "      <th>user_id</th>\n",
              "      <th>book_id</th>\n",
              "      <th>rating</th>\n",
              "    </tr>\n",
              "  </thead>\n",
              "  <tbody>\n",
              "    <tr>\n",
              "      <th>0</th>\n",
              "      <td>1</td>\n",
              "      <td>258</td>\n",
              "      <td>5</td>\n",
              "    </tr>\n",
              "    <tr>\n",
              "      <th>1</th>\n",
              "      <td>2</td>\n",
              "      <td>4081</td>\n",
              "      <td>4</td>\n",
              "    </tr>\n",
              "    <tr>\n",
              "      <th>2</th>\n",
              "      <td>2</td>\n",
              "      <td>260</td>\n",
              "      <td>5</td>\n",
              "    </tr>\n",
              "    <tr>\n",
              "      <th>3</th>\n",
              "      <td>2</td>\n",
              "      <td>9296</td>\n",
              "      <td>5</td>\n",
              "    </tr>\n",
              "    <tr>\n",
              "      <th>4</th>\n",
              "      <td>2</td>\n",
              "      <td>2318</td>\n",
              "      <td>3</td>\n",
              "    </tr>\n",
              "  </tbody>\n",
              "</table>\n",
              "</div>\n",
              "    <div class=\"colab-df-buttons\">\n",
              "\n",
              "  <div class=\"colab-df-container\">\n",
              "    <button class=\"colab-df-convert\" onclick=\"convertToInteractive('df-704d978d-0f2d-4556-8b42-f2de92b556eb')\"\n",
              "            title=\"Convert this dataframe to an interactive table.\"\n",
              "            style=\"display:none;\">\n",
              "\n",
              "  <svg xmlns=\"http://www.w3.org/2000/svg\" height=\"24px\" viewBox=\"0 -960 960 960\">\n",
              "    <path d=\"M120-120v-720h720v720H120Zm60-500h600v-160H180v160Zm220 220h160v-160H400v160Zm0 220h160v-160H400v160ZM180-400h160v-160H180v160Zm440 0h160v-160H620v160ZM180-180h160v-160H180v160Zm440 0h160v-160H620v160Z\"/>\n",
              "  </svg>\n",
              "    </button>\n",
              "\n",
              "  <style>\n",
              "    .colab-df-container {\n",
              "      display:flex;\n",
              "      gap: 12px;\n",
              "    }\n",
              "\n",
              "    .colab-df-convert {\n",
              "      background-color: #E8F0FE;\n",
              "      border: none;\n",
              "      border-radius: 50%;\n",
              "      cursor: pointer;\n",
              "      display: none;\n",
              "      fill: #1967D2;\n",
              "      height: 32px;\n",
              "      padding: 0 0 0 0;\n",
              "      width: 32px;\n",
              "    }\n",
              "\n",
              "    .colab-df-convert:hover {\n",
              "      background-color: #E2EBFA;\n",
              "      box-shadow: 0px 1px 2px rgba(60, 64, 67, 0.3), 0px 1px 3px 1px rgba(60, 64, 67, 0.15);\n",
              "      fill: #174EA6;\n",
              "    }\n",
              "\n",
              "    .colab-df-buttons div {\n",
              "      margin-bottom: 4px;\n",
              "    }\n",
              "\n",
              "    [theme=dark] .colab-df-convert {\n",
              "      background-color: #3B4455;\n",
              "      fill: #D2E3FC;\n",
              "    }\n",
              "\n",
              "    [theme=dark] .colab-df-convert:hover {\n",
              "      background-color: #434B5C;\n",
              "      box-shadow: 0px 1px 3px 1px rgba(0, 0, 0, 0.15);\n",
              "      filter: drop-shadow(0px 1px 2px rgba(0, 0, 0, 0.3));\n",
              "      fill: #FFFFFF;\n",
              "    }\n",
              "  </style>\n",
              "\n",
              "    <script>\n",
              "      const buttonEl =\n",
              "        document.querySelector('#df-704d978d-0f2d-4556-8b42-f2de92b556eb button.colab-df-convert');\n",
              "      buttonEl.style.display =\n",
              "        google.colab.kernel.accessAllowed ? 'block' : 'none';\n",
              "\n",
              "      async function convertToInteractive(key) {\n",
              "        const element = document.querySelector('#df-704d978d-0f2d-4556-8b42-f2de92b556eb');\n",
              "        const dataTable =\n",
              "          await google.colab.kernel.invokeFunction('convertToInteractive',\n",
              "                                                    [key], {});\n",
              "        if (!dataTable) return;\n",
              "\n",
              "        const docLinkHtml = 'Like what you see? Visit the ' +\n",
              "          '<a target=\"_blank\" href=https://colab.research.google.com/notebooks/data_table.ipynb>data table notebook</a>'\n",
              "          + ' to learn more about interactive tables.';\n",
              "        element.innerHTML = '';\n",
              "        dataTable['output_type'] = 'display_data';\n",
              "        await google.colab.output.renderOutput(dataTable, element);\n",
              "        const docLink = document.createElement('div');\n",
              "        docLink.innerHTML = docLinkHtml;\n",
              "        element.appendChild(docLink);\n",
              "      }\n",
              "    </script>\n",
              "  </div>\n",
              "\n",
              "\n",
              "<div id=\"df-ecac5d77-8701-449f-bf95-e80f8abeb4d0\">\n",
              "  <button class=\"colab-df-quickchart\" onclick=\"quickchart('df-ecac5d77-8701-449f-bf95-e80f8abeb4d0')\"\n",
              "            title=\"Suggest charts\"\n",
              "            style=\"display:none;\">\n",
              "\n",
              "<svg xmlns=\"http://www.w3.org/2000/svg\" height=\"24px\"viewBox=\"0 0 24 24\"\n",
              "     width=\"24px\">\n",
              "    <g>\n",
              "        <path d=\"M19 3H5c-1.1 0-2 .9-2 2v14c0 1.1.9 2 2 2h14c1.1 0 2-.9 2-2V5c0-1.1-.9-2-2-2zM9 17H7v-7h2v7zm4 0h-2V7h2v10zm4 0h-2v-4h2v4z\"/>\n",
              "    </g>\n",
              "</svg>\n",
              "  </button>\n",
              "\n",
              "<style>\n",
              "  .colab-df-quickchart {\n",
              "      --bg-color: #E8F0FE;\n",
              "      --fill-color: #1967D2;\n",
              "      --hover-bg-color: #E2EBFA;\n",
              "      --hover-fill-color: #174EA6;\n",
              "      --disabled-fill-color: #AAA;\n",
              "      --disabled-bg-color: #DDD;\n",
              "  }\n",
              "\n",
              "  [theme=dark] .colab-df-quickchart {\n",
              "      --bg-color: #3B4455;\n",
              "      --fill-color: #D2E3FC;\n",
              "      --hover-bg-color: #434B5C;\n",
              "      --hover-fill-color: #FFFFFF;\n",
              "      --disabled-bg-color: #3B4455;\n",
              "      --disabled-fill-color: #666;\n",
              "  }\n",
              "\n",
              "  .colab-df-quickchart {\n",
              "    background-color: var(--bg-color);\n",
              "    border: none;\n",
              "    border-radius: 50%;\n",
              "    cursor: pointer;\n",
              "    display: none;\n",
              "    fill: var(--fill-color);\n",
              "    height: 32px;\n",
              "    padding: 0;\n",
              "    width: 32px;\n",
              "  }\n",
              "\n",
              "  .colab-df-quickchart:hover {\n",
              "    background-color: var(--hover-bg-color);\n",
              "    box-shadow: 0 1px 2px rgba(60, 64, 67, 0.3), 0 1px 3px 1px rgba(60, 64, 67, 0.15);\n",
              "    fill: var(--button-hover-fill-color);\n",
              "  }\n",
              "\n",
              "  .colab-df-quickchart-complete:disabled,\n",
              "  .colab-df-quickchart-complete:disabled:hover {\n",
              "    background-color: var(--disabled-bg-color);\n",
              "    fill: var(--disabled-fill-color);\n",
              "    box-shadow: none;\n",
              "  }\n",
              "\n",
              "  .colab-df-spinner {\n",
              "    border: 2px solid var(--fill-color);\n",
              "    border-color: transparent;\n",
              "    border-bottom-color: var(--fill-color);\n",
              "    animation:\n",
              "      spin 1s steps(1) infinite;\n",
              "  }\n",
              "\n",
              "  @keyframes spin {\n",
              "    0% {\n",
              "      border-color: transparent;\n",
              "      border-bottom-color: var(--fill-color);\n",
              "      border-left-color: var(--fill-color);\n",
              "    }\n",
              "    20% {\n",
              "      border-color: transparent;\n",
              "      border-left-color: var(--fill-color);\n",
              "      border-top-color: var(--fill-color);\n",
              "    }\n",
              "    30% {\n",
              "      border-color: transparent;\n",
              "      border-left-color: var(--fill-color);\n",
              "      border-top-color: var(--fill-color);\n",
              "      border-right-color: var(--fill-color);\n",
              "    }\n",
              "    40% {\n",
              "      border-color: transparent;\n",
              "      border-right-color: var(--fill-color);\n",
              "      border-top-color: var(--fill-color);\n",
              "    }\n",
              "    60% {\n",
              "      border-color: transparent;\n",
              "      border-right-color: var(--fill-color);\n",
              "    }\n",
              "    80% {\n",
              "      border-color: transparent;\n",
              "      border-right-color: var(--fill-color);\n",
              "      border-bottom-color: var(--fill-color);\n",
              "    }\n",
              "    90% {\n",
              "      border-color: transparent;\n",
              "      border-bottom-color: var(--fill-color);\n",
              "    }\n",
              "  }\n",
              "</style>\n",
              "\n",
              "  <script>\n",
              "    async function quickchart(key) {\n",
              "      const quickchartButtonEl =\n",
              "        document.querySelector('#' + key + ' button');\n",
              "      quickchartButtonEl.disabled = true;  // To prevent multiple clicks.\n",
              "      quickchartButtonEl.classList.add('colab-df-spinner');\n",
              "      try {\n",
              "        const charts = await google.colab.kernel.invokeFunction(\n",
              "            'suggestCharts', [key], {});\n",
              "      } catch (error) {\n",
              "        console.error('Error during call to suggestCharts:', error);\n",
              "      }\n",
              "      quickchartButtonEl.classList.remove('colab-df-spinner');\n",
              "      quickchartButtonEl.classList.add('colab-df-quickchart-complete');\n",
              "    }\n",
              "    (() => {\n",
              "      let quickchartButtonEl =\n",
              "        document.querySelector('#df-ecac5d77-8701-449f-bf95-e80f8abeb4d0 button');\n",
              "      quickchartButtonEl.style.display =\n",
              "        google.colab.kernel.accessAllowed ? 'block' : 'none';\n",
              "    })();\n",
              "  </script>\n",
              "</div>\n",
              "    </div>\n",
              "  </div>\n"
            ],
            "application/vnd.google.colaboratory.intrinsic+json": {
              "type": "dataframe",
              "variable_name": "df"
            }
          },
          "metadata": {},
          "execution_count": 3
        }
      ]
    },
    {
      "cell_type": "code",
      "source": [
        "df.shape"
      ],
      "metadata": {
        "colab": {
          "base_uri": "https://localhost:8080/"
        },
        "id": "52Mu9DA5c3JT",
        "outputId": "d7cb44e6-b61c-42aa-ebaf-18005883b38a"
      },
      "execution_count": 4,
      "outputs": [
        {
          "output_type": "execute_result",
          "data": {
            "text/plain": [
              "(5976479, 3)"
            ]
          },
          "metadata": {},
          "execution_count": 4
        }
      ]
    },
    {
      "cell_type": "code",
      "source": [
        "print(df.info())\n"
      ],
      "metadata": {
        "colab": {
          "base_uri": "https://localhost:8080/"
        },
        "id": "VrraXBzsc6uL",
        "outputId": "b6dd2ebf-af86-4038-bfaa-2b6aa9761671"
      },
      "execution_count": 5,
      "outputs": [
        {
          "output_type": "stream",
          "name": "stdout",
          "text": [
            "<class 'pandas.core.frame.DataFrame'>\n",
            "RangeIndex: 5976479 entries, 0 to 5976478\n",
            "Data columns (total 3 columns):\n",
            " #   Column   Dtype\n",
            "---  ------   -----\n",
            " 0   user_id  int64\n",
            " 1   book_id  int64\n",
            " 2   rating   int64\n",
            "dtypes: int64(3)\n",
            "memory usage: 136.8 MB\n",
            "None\n"
          ]
        }
      ]
    },
    {
      "cell_type": "code",
      "source": [
        "print(df['user_id'].nunique())  # количество уникальных пользователей\n",
        "print(df['book_id'].nunique())  # количество уникальных книг\n",
        "print(df['rating'].unique())    # уникальные рейтинги\n"
      ],
      "metadata": {
        "colab": {
          "base_uri": "https://localhost:8080/"
        },
        "id": "sBwjD2_Ge9_Z",
        "outputId": "cbb23c75-3a6b-4401-ab2f-a51ed65b178a"
      },
      "execution_count": 6,
      "outputs": [
        {
          "output_type": "stream",
          "name": "stdout",
          "text": [
            "53424\n",
            "10000\n",
            "[5 4 3 2 1]\n"
          ]
        }
      ]
    },
    {
      "cell_type": "code",
      "source": [
        "average_ratings = df.groupby('book_id')['rating'].mean()\n",
        "print(average_ratings)\n"
      ],
      "metadata": {
        "colab": {
          "base_uri": "https://localhost:8080/"
        },
        "id": "ugbTkVdRfERR",
        "outputId": "3cc31246-5492-4a2d-c554-3e8a647a0d0a"
      },
      "execution_count": 7,
      "outputs": [
        {
          "output_type": "stream",
          "name": "stdout",
          "text": [
            "book_id\n",
            "1        4.279707\n",
            "2        4.351350\n",
            "3        3.214341\n",
            "4        4.329369\n",
            "5        3.772224\n",
            "           ...   \n",
            "9996     4.014184\n",
            "9997     4.451613\n",
            "9998     4.323529\n",
            "9999     3.707692\n",
            "10000    4.009009\n",
            "Name: rating, Length: 10000, dtype: float64\n"
          ]
        }
      ]
    },
    {
      "cell_type": "code",
      "source": [
        "most_rated_book = df['book_id'].value_counts().idxmax()\n",
        "print(f\"Book ID with the most ratings: {most_rated_book}\")\n"
      ],
      "metadata": {
        "colab": {
          "base_uri": "https://localhost:8080/"
        },
        "id": "JzCVO-QFfNFI",
        "outputId": "eee4cea6-3519-4cf6-80c1-2277413297a8"
      },
      "execution_count": 8,
      "outputs": [
        {
          "output_type": "stream",
          "name": "stdout",
          "text": [
            "Book ID with the most ratings: 1\n"
          ]
        }
      ]
    },
    {
      "cell_type": "code",
      "source": [
        "# Считаем количество оценок для каждой книги\n",
        "ratings_count = df['book_id'].value_counts()\n",
        "\n",
        "# Выводим первые 100 книг с наибольшим количеством оценок\n",
        "top_100_books = ratings_count.head(100)\n",
        "print(top_100_books)\n"
      ],
      "metadata": {
        "colab": {
          "base_uri": "https://localhost:8080/"
        },
        "id": "tW5ocTvdffPg",
        "outputId": "ec8ac27d-c345-45b4-cc74-54386794d097"
      },
      "execution_count": 9,
      "outputs": [
        {
          "output_type": "stream",
          "name": "stdout",
          "text": [
            "book_id\n",
            "1      22806\n",
            "2      21850\n",
            "4      19088\n",
            "3      16931\n",
            "5      16604\n",
            "       ...  \n",
            "102     6401\n",
            "100     6343\n",
            "161     6331\n",
            "73      6313\n",
            "129     6307\n",
            "Name: count, Length: 100, dtype: int64\n"
          ]
        }
      ]
    },
    {
      "cell_type": "code",
      "source": [
        "!pip install implicit\n"
      ],
      "metadata": {
        "colab": {
          "base_uri": "https://localhost:8080/"
        },
        "id": "nwL-6Oq6glh4",
        "outputId": "c45b2456-ef8b-4695-a598-e170fc04966b"
      },
      "execution_count": 9,
      "outputs": [
        {
          "output_type": "stream",
          "name": "stdout",
          "text": [
            "Collecting implicit\n",
            "  Downloading implicit-0.7.2-cp310-cp310-manylinux2014_x86_64.whl.metadata (6.1 kB)\n",
            "Requirement already satisfied: numpy>=1.17.0 in /usr/local/lib/python3.10/dist-packages (from implicit) (1.26.4)\n",
            "Requirement already satisfied: scipy>=0.16 in /usr/local/lib/python3.10/dist-packages (from implicit) (1.13.1)\n",
            "Requirement already satisfied: tqdm>=4.27 in /usr/local/lib/python3.10/dist-packages (from implicit) (4.66.5)\n",
            "Requirement already satisfied: threadpoolctl in /usr/local/lib/python3.10/dist-packages (from implicit) (3.5.0)\n",
            "Downloading implicit-0.7.2-cp310-cp310-manylinux2014_x86_64.whl (8.9 MB)\n",
            "\u001b[2K   \u001b[90m━━━━━━━━━━━━━━━━━━━━━━━━━━━━━━━━━━━━━━━━\u001b[0m \u001b[32m8.9/8.9 MB\u001b[0m \u001b[31m45.1 MB/s\u001b[0m eta \u001b[36m0:00:00\u001b[0m\n",
            "\u001b[?25hInstalling collected packages: implicit\n",
            "Successfully installed implicit-0.7.2\n"
          ]
        }
      ]
    },
    {
      "cell_type": "code",
      "source": [
        "import pandas as pd\n",
        "import implicit\n",
        "from scipy.sparse import csr_matrix\n",
        "import numpy as np"
      ],
      "metadata": {
        "id": "dpOrGon5ggGo"
      },
      "execution_count": 10,
      "outputs": []
    },
    {
      "cell_type": "code",
      "source": [
        "# Преобразование рейтингов в бинарные оценки: 1 — понравилось, 0 — не понравилось\n",
        "df['binary_rating'] = df['rating'].apply(lambda x: 1 if x >= 3 else 0)\n",
        "\n",
        "# Вывод первых строк для проверки\n",
        "print(df.head())"
      ],
      "metadata": {
        "colab": {
          "base_uri": "https://localhost:8080/"
        },
        "id": "7S0eEgx3gg5o",
        "outputId": "ca560fc0-15a1-4a04-de12-d0bcae003ece"
      },
      "execution_count": 11,
      "outputs": [
        {
          "output_type": "stream",
          "name": "stdout",
          "text": [
            "   user_id  book_id  rating  binary_rating\n",
            "0        1      258       5              1\n",
            "1        2     4081       4              1\n",
            "2        2      260       5              1\n",
            "3        2     9296       5              1\n",
            "4        2     2318       3              1\n"
          ]
        }
      ]
    },
    {
      "cell_type": "code",
      "source": [
        "df.binary_rating.value_counts()"
      ],
      "metadata": {
        "colab": {
          "base_uri": "https://localhost:8080/",
          "height": 178
        },
        "id": "7ju3dkAog6dv",
        "outputId": "5d6151d7-130c-4955-fdd3-9ff76ca6b609"
      },
      "execution_count": 12,
      "outputs": [
        {
          "output_type": "execute_result",
          "data": {
            "text/plain": [
              "binary_rating\n",
              "1    5493027\n",
              "0     483452\n",
              "Name: count, dtype: int64"
            ],
            "text/html": [
              "<div>\n",
              "<style scoped>\n",
              "    .dataframe tbody tr th:only-of-type {\n",
              "        vertical-align: middle;\n",
              "    }\n",
              "\n",
              "    .dataframe tbody tr th {\n",
              "        vertical-align: top;\n",
              "    }\n",
              "\n",
              "    .dataframe thead th {\n",
              "        text-align: right;\n",
              "    }\n",
              "</style>\n",
              "<table border=\"1\" class=\"dataframe\">\n",
              "  <thead>\n",
              "    <tr style=\"text-align: right;\">\n",
              "      <th></th>\n",
              "      <th>count</th>\n",
              "    </tr>\n",
              "    <tr>\n",
              "      <th>binary_rating</th>\n",
              "      <th></th>\n",
              "    </tr>\n",
              "  </thead>\n",
              "  <tbody>\n",
              "    <tr>\n",
              "      <th>1</th>\n",
              "      <td>5493027</td>\n",
              "    </tr>\n",
              "    <tr>\n",
              "      <th>0</th>\n",
              "      <td>483452</td>\n",
              "    </tr>\n",
              "  </tbody>\n",
              "</table>\n",
              "</div><br><label><b>dtype:</b> int64</label>"
            ]
          },
          "metadata": {},
          "execution_count": 12
        }
      ]
    },
    {
      "cell_type": "code",
      "source": [
        "# Создание разреженной матрицы user-item\n",
        "user_item_matrix = csr_matrix((df['binary_rating'], (df['user_id'], df['book_id'])))\n",
        "\n",
        "# Вывод размера матрицы для проверки\n",
        "print(f\"Размер матрицы: {user_item_matrix.shape}\")\n"
      ],
      "metadata": {
        "colab": {
          "base_uri": "https://localhost:8080/"
        },
        "id": "S9IKjynahkNP",
        "outputId": "7dd947bb-1776-4df7-9cb1-ab97dba3a429"
      },
      "execution_count": 13,
      "outputs": [
        {
          "output_type": "stream",
          "name": "stdout",
          "text": [
            "Размер матрицы: (53425, 10001)\n"
          ]
        }
      ]
    },
    {
      "cell_type": "code",
      "source": [
        "# Создание модели Alternating Least Squares (ALS)\n",
        "model = implicit.als.AlternatingLeastSquares(factors=20, regularization=0.1, iterations=50)\n",
        "\n",
        "# Обучение модели на матрице user-item\n",
        "model.fit(user_item_matrix.T)\n"
      ],
      "metadata": {
        "colab": {
          "base_uri": "https://localhost:8080/",
          "height": 138,
          "referenced_widgets": [
            "08b85821fcf34d1a98e64367f35e04f2",
            "a66c541e136a4162a835264fc83596b4",
            "643d2c29500a4b7db87502f1dbc73cf9",
            "66168e4a97464efeb17ec7b13f493db4",
            "f0c1f0d8c2ad416b85ea5a0e53740660",
            "dda70d72d9da4f3dbd2cf9db160ab906",
            "823751b11b2e4460817a3ffafd599f26",
            "f5359a32c01743c28b636a35978c5752",
            "3bf7787010814161b42173e7e0682fbf",
            "5e275109ed1a4984a9dbd3bdd4ab91a2",
            "d8f65adc0ea2417a85f59fb450562b21"
          ]
        },
        "id": "x9tMqeqDhHSX",
        "outputId": "c111546d-a3e6-43ba-8fbc-227eef099cfd"
      },
      "execution_count": 14,
      "outputs": [
        {
          "output_type": "stream",
          "name": "stderr",
          "text": [
            "/usr/local/lib/python3.10/dist-packages/implicit/cpu/als.py:95: RuntimeWarning: OpenBLAS is configured to use 2 threads. It is highly recommended to disable its internal threadpool by setting the environment variable 'OPENBLAS_NUM_THREADS=1' or by calling 'threadpoolctl.threadpool_limits(1, \"blas\")'. Having OpenBLAS use a threadpool can lead to severe performance issues here.\n",
            "  check_blas_config()\n",
            "/usr/local/lib/python3.10/dist-packages/implicit/utils.py:164: ParameterWarning: Method expects CSR input, and was passed csc_matrix instead. Converting to CSR took 0.1281125545501709 seconds\n",
            "  warnings.warn(\n"
          ]
        },
        {
          "output_type": "display_data",
          "data": {
            "text/plain": [
              "  0%|          | 0/50 [00:00<?, ?it/s]"
            ],
            "application/vnd.jupyter.widget-view+json": {
              "version_major": 2,
              "version_minor": 0,
              "model_id": "08b85821fcf34d1a98e64367f35e04f2"
            }
          },
          "metadata": {}
        }
      ]
    },
    {
      "cell_type": "code",
      "source": [
        "# Нумерация книг для каждого пользователя\n",
        "df['rank'] = df.groupby('user_id').cumcount() + 1\n",
        "\n",
        "# Преобразование рангов в доли\n",
        "df['rank_proportion'] = df['rank'] / df.groupby('user_id')['rank'].transform('max')\n",
        "\n",
        "# Вывод первых строк для проверки\n",
        "print(df.head())\n"
      ],
      "metadata": {
        "colab": {
          "base_uri": "https://localhost:8080/"
        },
        "id": "6ppO7V0ghcvo",
        "outputId": "c540f8c6-522e-4727-cd9a-7abbfce0d596"
      },
      "execution_count": 15,
      "outputs": [
        {
          "output_type": "stream",
          "name": "stdout",
          "text": [
            "   user_id  book_id  rating  binary_rating  rank  rank_proportion\n",
            "0        1      258       5              1     1         0.008547\n",
            "1        2     4081       4              1     1         0.015385\n",
            "2        2      260       5              1     2         0.030769\n",
            "3        2     9296       5              1     3         0.046154\n",
            "4        2     2318       3              1     4         0.061538\n"
          ]
        }
      ]
    },
    {
      "cell_type": "markdown",
      "source": [
        "Здесь мы устанавливаем, что 70% данных каждого пользователя будет использоваться для обучения, а оставшиеся 30% — для контроля."
      ],
      "metadata": {
        "id": "nGWvJLVxkffC"
      }
    },
    {
      "cell_type": "code",
      "source": [
        "# Установите процент данных для обучения и контроля\n",
        "train_proportion = 0.7\n",
        "\n",
        "# Определим, какие записи оставить для обучения\n",
        "df['is_train'] = df['rank_proportion'] <= train_proportion\n"
      ],
      "metadata": {
        "id": "GADdl_dukCIk"
      },
      "execution_count": 16,
      "outputs": []
    },
    {
      "cell_type": "code",
      "source": [
        "# Создание разреженной матрицы user-item для обучающих данных\n",
        "train_matrix = csr_matrix((df[df['is_train']]['binary_rating'],\n",
        "                           (df[df['is_train']]['user_id'], df[df['is_train']]['book_id'])))\n",
        "\n",
        "# Вывод размера матрицы для проверки\n",
        "print(f\"Размер обучающей матрицы: {train_matrix.shape}\")\n"
      ],
      "metadata": {
        "colab": {
          "base_uri": "https://localhost:8080/"
        },
        "id": "0pwnn5EwkKCN",
        "outputId": "d82c7abb-b1ed-4112-97e2-ee45fa3772af"
      },
      "execution_count": 17,
      "outputs": [
        {
          "output_type": "stream",
          "name": "stdout",
          "text": [
            "Размер обучающей матрицы: (53425, 10001)\n"
          ]
        }
      ]
    },
    {
      "cell_type": "code",
      "source": [
        "print(df['user_id'].max(), df['book_id'].max())\n"
      ],
      "metadata": {
        "colab": {
          "base_uri": "https://localhost:8080/"
        },
        "id": "KZO_0iwnpQZ1",
        "outputId": "7d5a36c6-c804-47f9-da31-a3be9b892b48"
      },
      "execution_count": 18,
      "outputs": [
        {
          "output_type": "stream",
          "name": "stdout",
          "text": [
            "53424 10000\n"
          ]
        }
      ]
    },
    {
      "cell_type": "code",
      "source": [
        "print(df['user_id'].nunique(), df['book_id'].nunique())\n"
      ],
      "metadata": {
        "colab": {
          "base_uri": "https://localhost:8080/"
        },
        "id": "cv5DZh8rpYFo",
        "outputId": "edfe1bfe-78c8-4067-ed2c-d9090887e1ae"
      },
      "execution_count": 19,
      "outputs": [
        {
          "output_type": "stream",
          "name": "stdout",
          "text": [
            "53424 10000\n"
          ]
        }
      ]
    },
    {
      "cell_type": "code",
      "source": [
        "print(df[df['user_id'] < 0])\n",
        "print(df[df['book_id'] < 0])\n",
        "print(df[df['user_id'].isna()])\n",
        "print(df[df['book_id'].isna()])\n"
      ],
      "metadata": {
        "colab": {
          "base_uri": "https://localhost:8080/"
        },
        "id": "w7NNyo5FppCH",
        "outputId": "1af10093-a173-47af-c98d-6efd70714cdf"
      },
      "execution_count": 20,
      "outputs": [
        {
          "output_type": "stream",
          "name": "stdout",
          "text": [
            "Empty DataFrame\n",
            "Columns: [user_id, book_id, rating, binary_rating, rank, rank_proportion, is_train]\n",
            "Index: []\n",
            "Empty DataFrame\n",
            "Columns: [user_id, book_id, rating, binary_rating, rank, rank_proportion, is_train]\n",
            "Index: []\n",
            "Empty DataFrame\n",
            "Columns: [user_id, book_id, rating, binary_rating, rank, rank_proportion, is_train]\n",
            "Index: []\n",
            "Empty DataFrame\n",
            "Columns: [user_id, book_id, rating, binary_rating, rank, rank_proportion, is_train]\n",
            "Index: []\n"
          ]
        }
      ]
    },
    {
      "cell_type": "code",
      "source": [
        "print(df[df.duplicated(['user_id', 'book_id'], keep=False)])\n"
      ],
      "metadata": {
        "colab": {
          "base_uri": "https://localhost:8080/"
        },
        "id": "GygaIV13p2Ro",
        "outputId": "02e79f2d-1973-4ab8-ead0-90f47f8f12d7"
      },
      "execution_count": 21,
      "outputs": [
        {
          "output_type": "stream",
          "name": "stdout",
          "text": [
            "Empty DataFrame\n",
            "Columns: [user_id, book_id, rating, binary_rating, rank, rank_proportion, is_train]\n",
            "Index: []\n"
          ]
        }
      ]
    },
    {
      "cell_type": "code",
      "source": [
        "print(df.dtypes)\n"
      ],
      "metadata": {
        "colab": {
          "base_uri": "https://localhost:8080/"
        },
        "id": "a4yi7m4jp6W3",
        "outputId": "6e5b898b-7828-4da7-b432-e8f7ffca93d7"
      },
      "execution_count": 22,
      "outputs": [
        {
          "output_type": "stream",
          "name": "stdout",
          "text": [
            "user_id              int64\n",
            "book_id              int64\n",
            "rating               int64\n",
            "binary_rating        int64\n",
            "rank                 int64\n",
            "rank_proportion    float64\n",
            "is_train              bool\n",
            "dtype: object\n"
          ]
        }
      ]
    },
    {
      "cell_type": "code",
      "source": [
        "user_id = 3  # идентификатор пользователя\n",
        "user_ratings = train_matrix[user_id].toarray().flatten()\n",
        "high_rated_books = np.where(user_ratings == 1)[0]\n",
        "\n",
        "print(f\"Книги с высокой оценкой для пользователя {user_id}: {high_rated_books}\")\n"
      ],
      "metadata": {
        "colab": {
          "base_uri": "https://localhost:8080/"
        },
        "id": "vPsT6DdBkKot",
        "outputId": "9bf55317-28ed-4c0b-980e-af8294b4bc15"
      },
      "execution_count": 23,
      "outputs": [
        {
          "output_type": "stream",
          "name": "stdout",
          "text": [
            "Книги с высокой оценкой для пользователя 3: [   4   59  118  247  410  715  977 1714 2963 3311 7401 8492]\n"
          ]
        }
      ]
    },
    {
      "cell_type": "markdown",
      "source": [
        "## Задание 2. Создание бейзлайнов и расчёт метрик\n",
        "### Что нужно сделать\n",
        "Для оценки качества модели создайте несколько простых бейзлайнов.\n",
        "\n",
        "1. Реализуйте функцию, которая подсчитывает метрику AP@K. На вход функция принимает список рекомендаций и список книг, положительно оценённых пользователем (с оценкой 4 или 5).\n",
        "2. Зафиксируйте случайный список из 500 пользовательских индексов. Подсчитайте случайный бейзлайн — для каждого пользователя из списка сгенерируйте случайный ответ из 20 книг. Удалите книги, которые пользователь уже читал.\n",
        "3. Рассчитайте метрику AP@10 для каждого из пользователей и усредните её по всем пользователям.\n",
        "4. Аналогично постройте бейзлайн из самых популярных книг: посмотрите, какие книги пользователи читали больше всего, и сделайте рекомендации на их основе. Подсчитайте mAP@10."
      ],
      "metadata": {
        "id": "DI-wccRplqGN"
      }
    },
    {
      "cell_type": "markdown",
      "source": [
        "### 1. Реализация функции AP@K\n",
        "Метрика AP@K (Average Precision at K) измеряет, насколько хорошо рекомендации соответствуют интересам пользователя. Она вычисляется как среднее значение прецизионности в топ-K рекомендациях."
      ],
      "metadata": {
        "id": "36V08LPnmbXr"
      }
    },
    {
      "cell_type": "code",
      "source": [
        "def ap_at_k(recommendations, relevant_items, k=10):\n",
        "    \"\"\"\n",
        "    Calculate Average Precision at K (AP@K)\n",
        "\n",
        "    :param recommendations: List of recommended item IDs\n",
        "    :param relevant_items: List of relevant item IDs\n",
        "    :param k: Number of top recommendations to consider\n",
        "    :return: AP@K score\n",
        "    \"\"\"\n",
        "    recommendations = recommendations[:k]\n",
        "    relevant_items_set = set(relevant_items)\n",
        "    num_relevant = 0\n",
        "    precision_sum = 0.0\n",
        "\n",
        "    for i, item in enumerate(recommendations):\n",
        "        if item in relevant_items_set:\n",
        "            num_relevant += 1\n",
        "            precision_sum += num_relevant / (i + 1)\n",
        "\n",
        "    if num_relevant == 0:\n",
        "        return 0.0\n",
        "\n",
        "    return precision_sum / min(len(relevant_items), k)\n"
      ],
      "metadata": {
        "id": "UKVmun44lKzb"
      },
      "execution_count": 24,
      "outputs": []
    },
    {
      "cell_type": "markdown",
      "source": [
        "* recommendations: список рекомендованных книг.\n",
        "* relevant_items: список книг, которые пользователь оценил положительно.\n",
        "* k: число рекомендованных книг для оценки (обычно 10).\n",
        "\n",
        "Функция подсчитывает, насколько высока прецизионность рекомендованных книг в топ-K."
      ],
      "metadata": {
        "id": "shOQRP3tmx_E"
      }
    },
    {
      "cell_type": "code",
      "source": [
        "import random\n",
        "\n",
        "# Фиксация случайного списка из 500 пользовательских индексов\n",
        "random_users = df['user_id'].sample(n=500, random_state=42).unique()\n",
        "\n",
        "def generate_random_recommendations(user_id, all_books, read_books, num_recommendations=20):\n",
        "    \"\"\"\n",
        "    Generate random recommendations for a user\n",
        "\n",
        "    :param user_id: User ID\n",
        "    :param all_books: List of all book IDs\n",
        "    :param read_books: List of books that the user has already read\n",
        "    :param num_recommendations: Number of recommendations to generate\n",
        "    :return: List of recommended book IDs\n",
        "    \"\"\"\n",
        "    unread_books = list(set(all_books) - set(read_books))\n",
        "    return random.sample(unread_books, min(num_recommendations, len(unread_books)))\n",
        "\n",
        "# Подсчет случайного бейзлайна для каждого пользователя\n",
        "def calculate_random_baseline(user_ids, all_books, ratings_df):\n",
        "    \"\"\"\n",
        "    Calculate random baseline for given users\n",
        "\n",
        "    :param user_ids: List of user IDs\n",
        "    :param all_books: List of all book IDs\n",
        "    :param ratings_df: DataFrame containing ratings\n",
        "    :return: Dictionary with user IDs and their AP@10 scores\n",
        "    \"\"\"\n",
        "    ap_scores = {}\n",
        "\n",
        "    for user_id in user_ids:\n",
        "        read_books = ratings_df[ratings_df['user_id'] == user_id]['book_id'].tolist()\n",
        "        recommendations = generate_random_recommendations(user_id, all_books, read_books)\n",
        "        relevant_books = ratings_df[ratings_df['user_id'] == user_id]['book_id'][ratings_df['rating'] >= 4].tolist()\n",
        "        ap_score = ap_at_k(recommendations, relevant_books, k=10)\n",
        "        ap_scores[user_id] = ap_score\n",
        "\n",
        "    return ap_scores\n",
        "\n",
        "# Генерация списка всех книг\n",
        "all_books = df['book_id'].unique()\n",
        "\n",
        "# Подсчет AP@10 для случайного бейзлайна\n",
        "random_baseline_scores = calculate_random_baseline(random_users, all_books, df)\n",
        "mean_ap_random = np.mean(list(random_baseline_scores.values()))\n",
        "print(f\"Средний AP@10 для случайного бейзлайна: {mean_ap_random}\")\n"
      ],
      "metadata": {
        "colab": {
          "base_uri": "https://localhost:8080/"
        },
        "id": "4P48SPusmp0i",
        "outputId": "ed8b2823-930f-4de1-eee3-dd5caf19d2d4"
      },
      "execution_count": 25,
      "outputs": [
        {
          "output_type": "stream",
          "name": "stdout",
          "text": [
            "Средний AP@10 для случайного бейзлайна: 0.0\n"
          ]
        }
      ]
    },
    {
      "cell_type": "code",
      "source": [
        "# Подсчет числа прочтений каждой книги\n",
        "book_popularity = df['book_id'].value_counts()\n",
        "\n",
        "# Выбираем 20 самых популярных книг\n",
        "top_books = book_popularity.head(20).index.tolist()\n",
        "\n",
        "def calculate_popular_books_baseline(user_ids, top_books, ratings_df):\n",
        "    \"\"\"\n",
        "    Calculate popular books baseline for given users\n",
        "\n",
        "    :param user_ids: List of user IDs\n",
        "    :param top_books: List of popular book IDs\n",
        "    :param ratings_df: DataFrame containing ratings\n",
        "    :return: Dictionary with user IDs and their AP@10 scores\n",
        "    \"\"\"\n",
        "    ap_scores = {}\n",
        "\n",
        "    for user_id in user_ids:\n",
        "        read_books = ratings_df[ratings_df['user_id'] == user_id]['book_id'].tolist()\n",
        "        recommendations = [book for book in top_books if book not in read_books]\n",
        "        relevant_books = ratings_df[ratings_df['user_id'] == user_id]['book_id'][ratings_df['rating'] >= 4].tolist()\n",
        "        ap_score = ap_at_k(recommendations, relevant_books, k=10)\n",
        "        ap_scores[user_id] = ap_score\n",
        "\n",
        "    return ap_scores\n",
        "\n",
        "# Подсчет AP@10 для бейзлайна из самых популярных книг\n",
        "popular_baseline_scores = calculate_popular_books_baseline(random_users, top_books, df)\n",
        "mean_ap_popular = np.mean(list(popular_baseline_scores.values()))\n",
        "print(f\"Средний AP@10 для бейзлайна из популярных книг: {mean_ap_popular}\")\n"
      ],
      "metadata": {
        "colab": {
          "base_uri": "https://localhost:8080/"
        },
        "id": "ln8xh-sBm-S6",
        "outputId": "6bbc0f95-cb1e-4bc7-dc25-653f16f7e195"
      },
      "execution_count": 26,
      "outputs": [
        {
          "output_type": "stream",
          "name": "stdout",
          "text": [
            "Средний AP@10 для бейзлайна из популярных книг: 0.0\n"
          ]
        }
      ]
    },
    {
      "cell_type": "code",
      "source": [
        "def generate_random_recommendations(user_id, all_books, read_books, num_recommendations=20):\n",
        "    \"\"\"\n",
        "    Generate random recommendations for a user\n",
        "\n",
        "    :param user_id: User ID\n",
        "    :param all_books: List of all book IDs\n",
        "    :param read_books: List of books that the user has already read\n",
        "    :param num_recommendations: Number of recommendations to generate\n",
        "    :return: List of recommended book IDs\n",
        "    \"\"\"\n",
        "    unread_books = list(set(all_books) - set(read_books))\n",
        "    if len(unread_books) < num_recommendations:\n",
        "        return unread_books\n",
        "    return random.sample(unread_books, num_recommendations)\n",
        "\n",
        "# Проверим случайные рекомендации для одного пользователя\n",
        "user_id = random_users[0]\n",
        "read_books = df[df['user_id'] == user_id]['book_id'].tolist()\n",
        "recommendations = generate_random_recommendations(user_id, all_books, read_books)\n",
        "print(f\"Recommendations for user {user_id}: {recommendations}\")\n"
      ],
      "metadata": {
        "colab": {
          "base_uri": "https://localhost:8080/"
        },
        "id": "oKY8xC-lnMui",
        "outputId": "5d21690c-42fe-42b9-8826-fd13f4f95b87"
      },
      "execution_count": 27,
      "outputs": [
        {
          "output_type": "stream",
          "name": "stdout",
          "text": [
            "Recommendations for user 42562: [7902, 3356, 3475, 5771, 1771, 4266, 2473, 3982, 941, 5881, 1008, 2409, 3120, 1245, 5857, 9676, 1573, 6002, 3758, 1003]\n"
          ]
        }
      ]
    },
    {
      "cell_type": "code",
      "source": [
        "def ap_at_k(recommendations, relevant_items, k=10):\n",
        "    \"\"\"\n",
        "    Calculate Average Precision at K (AP@K)\n",
        "\n",
        "    :param recommendations: List of recommended item IDs\n",
        "    :param relevant_items: List of relevant item IDs\n",
        "    :param k: Number of top recommendations to consider\n",
        "    :return: AP@K score\n",
        "    \"\"\"\n",
        "    recommendations = recommendations[:k]\n",
        "    relevant_items_set = set(relevant_items)\n",
        "    num_relevant = 0\n",
        "    precision_sum = 0.0\n",
        "\n",
        "    for i, item in enumerate(recommendations):\n",
        "        if item in relevant_items_set:\n",
        "            num_relevant += 1\n",
        "            precision_sum += num_relevant / (i + 1)\n",
        "\n",
        "    if num_relevant == 0:\n",
        "        return 0.0\n",
        "\n",
        "    return precision_sum / min(len(relevant_items), k)\n",
        "\n",
        "# Проверим AP@K для простого случая\n",
        "recommendations = [1, 2, 3, 4, 5]\n",
        "relevant_items = [1, 2, 6, 7, 8]\n",
        "print(f\"AP@10: {ap_at_k(recommendations, relevant_items, k=10)}\")\n"
      ],
      "metadata": {
        "colab": {
          "base_uri": "https://localhost:8080/"
        },
        "id": "Xk79kJOFoG9q",
        "outputId": "12576a44-885f-46af-fbb1-2c415c2c0ae8"
      },
      "execution_count": 28,
      "outputs": [
        {
          "output_type": "stream",
          "name": "stdout",
          "text": [
            "AP@10: 0.4\n"
          ]
        }
      ]
    },
    {
      "cell_type": "code",
      "source": [
        "# Проверим, есть ли у пользователя релевантные книги\n",
        "user_id = random_users[0]\n",
        "relevant_books = df[(df['user_id'] == user_id) & (df['rating'] >= 4)]['book_id'].tolist()\n",
        "print(f\"Relevant books for user {user_id}: {relevant_books}\")\n"
      ],
      "metadata": {
        "colab": {
          "base_uri": "https://localhost:8080/"
        },
        "id": "7Cjm8rgEon-x",
        "outputId": "cb4c7c09-1882-4d9b-ed9b-a57cd70d65c5"
      },
      "execution_count": 29,
      "outputs": [
        {
          "output_type": "stream",
          "name": "stdout",
          "text": [
            "Relevant books for user 42562: [144, 179, 767, 465, 38, 46, 150, 417, 1361, 195, 291, 613, 482, 1256, 31, 22, 1237, 311, 3143, 1758, 100, 16, 4854, 115, 516, 1, 33, 925, 1458, 19, 94, 669, 457, 212, 1133, 453, 8435, 109, 1073, 3, 72, 143]\n"
          ]
        }
      ]
    },
    {
      "cell_type": "code",
      "source": [
        "print(f\"Top books: {top_books}\")\n"
      ],
      "metadata": {
        "colab": {
          "base_uri": "https://localhost:8080/"
        },
        "id": "AwydIvc9oopB",
        "outputId": "34f4341f-4dbd-4e28-9c08-aaa48bf8ee3b"
      },
      "execution_count": 30,
      "outputs": [
        {
          "output_type": "stream",
          "name": "stdout",
          "text": [
            "Top books: [1, 2, 4, 3, 5, 17, 20, 18, 23, 7, 24, 25, 21, 27, 13, 8, 16, 14, 28, 9]\n"
          ]
        }
      ]
    },
    {
      "cell_type": "code",
      "source": [
        "def ap_at_k(recommendations, relevant_items, k=10):\n",
        "    \"\"\"\n",
        "    Calculate Average Precision at K (AP@K).\n",
        "\n",
        "    :param recommendations: List of recommended item IDs (top-K recommendations).\n",
        "    :param relevant_items: List of relevant item IDs (items positively rated by the user).\n",
        "    :param k: Number of top recommendations to consider.\n",
        "    :return: AP@K score.\n",
        "    \"\"\"\n",
        "    # Slice recommendations to consider only top-K recommendations\n",
        "    recommendations = recommendations[:k]\n",
        "\n",
        "    # Convert relevant_items to a set for faster lookups\n",
        "    relevant_items_set = set(relevant_items)\n",
        "\n",
        "    # Initialize variables\n",
        "    num_relevant = 0\n",
        "    precision_sum = 0.0\n",
        "\n",
        "    # Iterate over the recommendations to calculate precision\n",
        "    for i, item in enumerate(recommendations):\n",
        "        if item in relevant_items_set:\n",
        "            num_relevant += 1\n",
        "            precision_sum += num_relevant / (i + 1)\n",
        "\n",
        "    # Return AP@K score, handling the case where there are no relevant items\n",
        "    if num_relevant == 0:\n",
        "        return 0.0\n",
        "\n",
        "    return precision_sum / min(len(relevant_items), k)\n",
        "\n",
        "# Пример использования\n",
        "recommendations = [1, 2, 4, 3, 5, 17, 20, 18, 23, 7, 24, 25, 21, 27, 13, 8, 16, 14, 28, 9]\n",
        "relevant_items = [2, 4, 6, 8, 10]\n",
        "print(f\"AP@10: {ap_at_k(recommendations, relevant_items, k=10)}\")\n"
      ],
      "metadata": {
        "colab": {
          "base_uri": "https://localhost:8080/"
        },
        "id": "7cKe2qTBpAV4",
        "outputId": "4bf43574-31d5-4a42-b9dc-1fdebe86d7ec"
      },
      "execution_count": 31,
      "outputs": [
        {
          "output_type": "stream",
          "name": "stdout",
          "text": [
            "AP@10: 0.2333333333333333\n"
          ]
        }
      ]
    },
    {
      "cell_type": "code",
      "source": [
        "def get_recommendations(user_id, model, all_books, num_recommendations=20):\n",
        "    \"\"\"\n",
        "    Получите список рекомендаций для пользователя на основе модели.\n",
        "\n",
        "    :param user_id: ID пользователя\n",
        "    :param model: Рекомендательная модель\n",
        "    :param all_books: Список всех книг\n",
        "    :param num_recommendations: Количество рекомендаций\n",
        "    :return: Список рекомендованных книг\n",
        "    \"\"\"\n",
        "    # Предсказание оценок для всех книг\n",
        "    user_vector = np.array([user_id])  # Преобразование user_id в нужный формат\n",
        "    predictions = model.predict(user_vector, np.arange(len(all_books)))\n",
        "\n",
        "    # Создание DataFrame для удобного просмотра и сортировки\n",
        "    recommendations_df = pd.DataFrame({\n",
        "        'book_id': all_books,\n",
        "        'predicted_rating': predictions.flatten()\n",
        "    })\n",
        "\n",
        "    # Сортировка книг по предсказанным оценкам\n",
        "    recommendations_df = recommendations_df.sort_values(by='predicted_rating', ascending=False)\n",
        "\n",
        "    # Выбор топ-K рекомендаций\n",
        "    top_recommendations = recommendations_df.head(num_recommendations)['book_id'].tolist()\n",
        "\n",
        "    return top_recommendations\n"
      ],
      "metadata": {
        "id": "nsHpMDUtp2Cw"
      },
      "execution_count": 32,
      "outputs": []
    },
    {
      "cell_type": "code",
      "source": [
        "def get_positive_books(user_id, ratings_df):\n",
        "    \"\"\"\n",
        "    Получите список книг, положительно оценённых пользователем.\n",
        "\n",
        "    :param user_id: ID пользователя\n",
        "    :param ratings_df: DataFrame с данными о рейтингах\n",
        "    :return: Список книг с положительными оценками\n",
        "    \"\"\"\n",
        "    # Фильтрация данных для данного пользователя и оценок 4 или 5\n",
        "    positive_books = ratings_df[(ratings_df['user_id'] == user_id) & (ratings_df['rating'] >= 4)]\n",
        "\n",
        "    return positive_books['book_id'].tolist()\n"
      ],
      "metadata": {
        "id": "ebsPNOPzr2RO"
      },
      "execution_count": 33,
      "outputs": []
    },
    {
      "cell_type": "code",
      "source": [
        "from implicit.als import AlternatingLeastSquares\n",
        "# Загрузка данных\n",
        "ratings_df = pd.read_csv('ratings.csv')\n",
        "\n",
        "# Создание user-item-матрицы\n",
        "user_item_matrix = csr_matrix((ratings_df['rating'], (ratings_df['user_id'], ratings_df['book_id'])))\n",
        "\n",
        "# Инициализация и обучение модели AlternatingLeastSquares\n",
        "model = AlternatingLeastSquares(factors=50, regularization=0.1, iterations=20)\n",
        "model.fit(user_item_matrix)\n"
      ],
      "metadata": {
        "colab": {
          "base_uri": "https://localhost:8080/",
          "height": 49,
          "referenced_widgets": [
            "4d45e4c416494c938659ef64f1d6e78c",
            "cd0259efb96d49259aacf52b2431318e",
            "df9f4a2112af4d7a8afa296debd7d0bb",
            "54d14c930e5e462d972e9883b5c72fae",
            "e1f6da6d7fc5474b97644b323eb46dba",
            "bbf5dd425da1409fa92c8882290fd446",
            "16ff1ead090043d1a8ccc2fada8b6604",
            "33a57bf2c7184d57ae7e5287e9829b64",
            "a7545e9d45694aa49965f08160743bc1",
            "bff13b90c35a4c798a02754ca47b7052",
            "bfc45eb572094d9680374f54402cc8d3"
          ]
        },
        "id": "LCH-mxlGslVN",
        "outputId": "cb7a943a-cea7-4401-9bb2-d07ed6d4eff8"
      },
      "execution_count": 34,
      "outputs": [
        {
          "output_type": "display_data",
          "data": {
            "text/plain": [
              "  0%|          | 0/20 [00:00<?, ?it/s]"
            ],
            "application/vnd.jupyter.widget-view+json": {
              "version_major": 2,
              "version_minor": 0,
              "model_id": "4d45e4c416494c938659ef64f1d6e78c"
            }
          },
          "metadata": {}
        }
      ]
    },
    {
      "cell_type": "code",
      "source": [
        "def get_recommendations(model, user_id, user_item_matrix, num_recommendations=10):\n",
        "    \"\"\"\n",
        "    Получить рекомендации для заданного пользователя.\n",
        "\n",
        "    :param model: Обученная модель ALS\n",
        "    :param user_id: ID пользователя\n",
        "    :param user_item_matrix: Матрица user-item\n",
        "    :param num_recommendations: Количество рекомендаций\n",
        "    :return: Список рекомендованных книг\n",
        "    \"\"\"\n",
        "    # Получить все книги\n",
        "    all_books = user_item_matrix.shape[1]\n",
        "\n",
        "    # Получить оценки для данного пользователя\n",
        "    user_ratings = user_item_matrix[user_id]\n",
        "\n",
        "    # Получить рекомендации\n",
        "    recommendations = model.recommend(user_id, user_item_matrix[user_id], N=num_recommendations)\n",
        "\n",
        "    # Возвращаем книги и их оценку\n",
        "    return recommendations\n",
        "\n",
        "\n"
      ],
      "metadata": {
        "id": "7z14XBsMsoZV"
      },
      "execution_count": 35,
      "outputs": []
    },
    {
      "cell_type": "code",
      "source": [
        "# Пример использования\n",
        "user_id = 3  # ID пользователя\n",
        "recommendations = get_recommendations(model, user_id, user_item_matrix)\n",
        "print(recommendations)"
      ],
      "metadata": {
        "colab": {
          "base_uri": "https://localhost:8080/"
        },
        "id": "52TwSUqdzJoo",
        "outputId": "43970690-3c1b-405b-c494-1a369cdca24d"
      },
      "execution_count": 36,
      "outputs": [
        {
          "output_type": "stream",
          "name": "stdout",
          "text": [
            "(array([ 14,  29,   5,   8, 125,  87, 154, 131,  48, 354], dtype=int32), array([0.52084905, 0.5057618 , 0.50478673, 0.49874854, 0.44828695,\n",
            "       0.44163695, 0.43954957, 0.42903876, 0.416268  , 0.40675738],\n",
            "      dtype=float32))\n"
          ]
        }
      ]
    },
    {
      "cell_type": "markdown",
      "source": [
        "### Описание метрики:\n",
        "* Precision at K (P@K): Точность на уровне K — это доля правильно рекомендованных книг среди первых K книг в списке рекомендаций.\n",
        "\n",
        "* Average Precision (AP@K): Это среднее значение Precision на уровнях от 1 до K. Важно учитывать порядок, так как более высокие позиции в списке рекомендаций имеют больший вес."
      ],
      "metadata": {
        "id": "RxAsd-rn7tSy"
      }
    },
    {
      "cell_type": "code",
      "source": [
        "def average_precision_at_k(recommendations, relevant_books, k):\n",
        "    \"\"\"\n",
        "    Вычисляет Average Precision at K (AP@K).\n",
        "\n",
        "    :param recommendations: Список рекомендованных книг (отсортированный по убыванию вероятности)\n",
        "    :param relevant_books: Список книг, положительно оцененных пользователем (с оценкой 4 или 5)\n",
        "    :param k: Количество верхних рекомендаций, для которых рассчитывается метрика\n",
        "    :return: Average Precision at K\n",
        "    \"\"\"\n",
        "    # Обрезаем список рекомендаций до K\n",
        "    recommendations = recommendations[:k]\n",
        "\n",
        "    # Определяем количество релевантных книг среди первых K рекомендаций\n",
        "    relevant_count = 0\n",
        "    precision_sum = 0.0\n",
        "\n",
        "    for i, book in enumerate(recommendations):\n",
        "        if book in relevant_books:\n",
        "            relevant_count += 1\n",
        "            precision_sum += relevant_count / (i + 1)  # i + 1 потому что индексы начинаются с 0\n",
        "\n",
        "    # AP@K вычисляется как среднее значение Precision по всем позициям, где обнаружены релевантные книги\n",
        "    if relevant_count > 0:\n",
        "        ap_at_k = precision_sum / min(k, len(relevant_books))\n",
        "    else:\n",
        "        ap_at_k = 0.0\n",
        "\n",
        "    return ap_at_k\n"
      ],
      "metadata": {
        "id": "Z7py69h6z0in"
      },
      "execution_count": 37,
      "outputs": []
    },
    {
      "cell_type": "code",
      "source": [
        "# Список книг, рекомендованных пользователю (отсортированный по вероятности)\n",
        "recommendations = [14,   5,  29,   8,  87, 125, 154,  48, 131,  10]\n",
        "\n",
        "# Список книг, положительно оцененных пользователем (с оценкой 4 или 5)\n",
        "relevant_books = [172, 195, 118, 5]\n",
        "\n",
        "# Количество рекомендаций для оценки\n",
        "k = 10\n",
        "\n",
        "# Вычисляем AP@K\n",
        "ap_at_k = average_precision_at_k(recommendations, relevant_books, k)\n",
        "print(f\"AP@{k}: {ap_at_k}\")\n"
      ],
      "metadata": {
        "colab": {
          "base_uri": "https://localhost:8080/"
        },
        "id": "FWp_MS6x01LO",
        "outputId": "59c262f6-7195-4f62-8f25-84f2ee423daa"
      },
      "execution_count": 40,
      "outputs": [
        {
          "output_type": "stream",
          "name": "stdout",
          "text": [
            "AP@10: 0.125\n"
          ]
        }
      ]
    },
    {
      "cell_type": "markdown",
      "source": [
        "* Обрезка до K: Мы берем только первые K рекомендаций, так как нас интересуют только верхние рекомендации.\n",
        "* Расчет Precision: Для каждой книги в первых K рекомендациях проверяем, является ли она релевантной. Если да, то добавляем её Precision к сумме Precision.\n",
        "* AP@K: Делим сумму Precision на количество релевантных книг, чтобы получить среднее значение Precision на уровне K."
      ],
      "metadata": {
        "id": "NbOJOmuW777L"
      }
    },
    {
      "cell_type": "code",
      "source": [
        "# Получение уникальных идентификаторов пользователей\n",
        "user_ids = ratings_df['user_id'].unique()\n",
        "\n",
        "# Выбор случайных 500 пользователей\n",
        "np.random.seed(0)  # Устанавливаем seed для воспроизводимости\n",
        "random_users = np.random.choice(user_ids, 500, replace=False)"
      ],
      "metadata": {
        "id": "gTJMoCZB07cG"
      },
      "execution_count": 41,
      "outputs": []
    },
    {
      "cell_type": "markdown",
      "source": [
        "Для каждого выбранного пользователя создадим случайный список из 20 книг, исключая книги, которые он уже читал."
      ],
      "metadata": {
        "id": "gEBmZX5C7GBb"
      }
    },
    {
      "cell_type": "code",
      "source": [
        "from collections import defaultdict\n",
        "\n",
        "# Словарь для хранения книг, которые уже читал каждый пользователь\n",
        "user_books = defaultdict(set)\n",
        "for _, row in ratings_df.iterrows():\n",
        "    user_books[row['user_id']].add(row['book_id'])\n",
        "\n",
        "# Генерация случайных рекомендаций\n",
        "books = ratings_df['book_id'].unique()  # Все уникальные книги\n",
        "\n",
        "def generate_random_recommendations(user_id, num_recommendations=20):\n",
        "    # Книги, которые пользователь уже читал\n",
        "    read_books = user_books[user_id]\n",
        "\n",
        "    # Фильтрация книг, которые пользователь уже читал\n",
        "    possible_books = [book for book in books if book not in read_books]\n",
        "\n",
        "    # Генерация случайного списка книг\n",
        "    if len(possible_books) > num_recommendations:\n",
        "        recommendations = np.random.choice(possible_books, num_recommendations, replace=False)\n",
        "    else:\n",
        "        recommendations = possible_books\n",
        "\n",
        "    return recommendations\n",
        "\n",
        "# Пример для одного случайного пользователя\n",
        "user_id = random_users[0]\n",
        "recommendations = generate_random_recommendations(user_id)\n",
        "print(f\"Случайные рекомендации для пользователя {user_id}: {recommendations}\")\n"
      ],
      "metadata": {
        "colab": {
          "base_uri": "https://localhost:8080/"
        },
        "id": "xF0ulrCW1aRF",
        "outputId": "7006cb68-5e74-46ca-a73e-3f96c0a6fa34"
      },
      "execution_count": 42,
      "outputs": [
        {
          "output_type": "stream",
          "name": "stdout",
          "text": [
            "Случайные рекомендации для пользователя 4722: [6971 4682 6501  425 1308  682 3315   33 9825 6483 7111  248 3868 4309\n",
            " 4594 5823 9146 3444 2411 8226]\n"
          ]
        }
      ]
    },
    {
      "cell_type": "markdown",
      "source": [
        "Теперь вычислим метрику AP@10 для случайных рекомендаций. Нужно вычислить метрику для каждого пользователя и усреднить по всем пользователям."
      ],
      "metadata": {
        "id": "IKWHVHLF7X8a"
      }
    },
    {
      "cell_type": "code",
      "source": [
        "def average_precision_at_k(recommendations, relevant_books, k):\n",
        "    \"\"\"\n",
        "    Вычисляет Average Precision at K (AP@K).\n",
        "    \"\"\"\n",
        "    recommendations = recommendations[:k]\n",
        "    relevant_count = 0\n",
        "    precision_sum = 0.0\n",
        "\n",
        "    for i, book in enumerate(recommendations):\n",
        "        if book in relevant_books:\n",
        "            relevant_count += 1\n",
        "            precision_sum += relevant_count / (i + 1)\n",
        "\n",
        "    if relevant_count > 0:\n",
        "        ap_at_k = precision_sum / min(k, len(relevant_books))\n",
        "    else:\n",
        "        ap_at_k = 0.0\n",
        "\n",
        "    return ap_at_k\n",
        "\n",
        "# Список для хранения метрик AP@10\n",
        "ap_at_10_list = []\n",
        "\n",
        "# Вычисляем AP@10 для каждого пользователя из списка\n",
        "for user_id in random_users:\n",
        "    # Книги, положительно оцененные пользователем\n",
        "    relevant_books = ratings_df[(ratings_df['user_id'] == user_id) & (ratings_df['rating'] >= 4)]['book_id'].tolist()\n",
        "\n",
        "    # Генерация случайных рекомендаций\n",
        "    recommendations = generate_random_recommendations(user_id)\n",
        "\n",
        "    # Вычисляем AP@10\n",
        "    ap_at_10 = average_precision_at_k(recommendations, relevant_books, 10)\n",
        "    ap_at_10_list.append(ap_at_10)\n",
        "\n",
        "# Усреднение AP@10\n",
        "average_ap_at_10 = np.mean(ap_at_10_list)\n",
        "print(f\"Средний AP@10 для случайного бейзлайна: {average_ap_at_10}\")\n"
      ],
      "metadata": {
        "colab": {
          "base_uri": "https://localhost:8080/"
        },
        "id": "H5ybaSMq6nmd",
        "outputId": "5569c933-649e-4ee5-b900-788b57cb5181"
      },
      "execution_count": 43,
      "outputs": [
        {
          "output_type": "stream",
          "name": "stdout",
          "text": [
            "Средний AP@10 для случайного бейзлайна: 0.0\n"
          ]
        }
      ]
    },
    {
      "cell_type": "code",
      "source": [
        "# Определим популярные книги\n",
        "popular_books = ratings_df.groupby('book_id').size().sort_values(ascending=False).index\n"
      ],
      "metadata": {
        "id": "7Gxc7UVm82hP"
      },
      "execution_count": 44,
      "outputs": []
    },
    {
      "cell_type": "code",
      "source": [
        "# Выберем топ-20 популярных книг\n",
        "top_n_books = popular_books[:20]\n"
      ],
      "metadata": {
        "id": "pxHy1f3G83Sv"
      },
      "execution_count": 45,
      "outputs": []
    },
    {
      "cell_type": "code",
      "source": [
        "print(f\"Топ-20 популярных книг: {top_n_books}\")\n"
      ],
      "metadata": {
        "colab": {
          "base_uri": "https://localhost:8080/"
        },
        "id": "fTnwyWGN9zg-",
        "outputId": "d05048f4-bf41-4551-9724-5af10f0337c1"
      },
      "execution_count": 46,
      "outputs": [
        {
          "output_type": "stream",
          "name": "stdout",
          "text": [
            "Топ-20 популярных книг: Index([1, 2, 4, 3, 5, 17, 20, 18, 23, 7, 24, 25, 21, 27, 13, 8, 16, 14, 28, 9], dtype='int64', name='book_id')\n"
          ]
        }
      ]
    },
    {
      "cell_type": "code",
      "source": [
        "import numpy as np\n",
        "\n",
        "def get_popular_recommendations(user_id, top_n_books, user_item_matrix):\n",
        "    # Получим книги, которые пользователь уже читал\n",
        "    user_books = set(user_item_matrix[user_id, :].nonzero()[1])\n",
        "\n",
        "    # Создадим список рекомендаций из самых популярных книг\n",
        "    recommendations = [book for book in top_n_books if book not in user_books]\n",
        "\n",
        "    return recommendations[:20]\n",
        "\n",
        "# Генерируем рекомендации для случайного списка пользователей\n",
        "random_users = np.random.choice(user_item_matrix.shape[0], 500, replace=False)\n",
        "popular_recommendations = {}\n",
        "\n",
        "for user in random_users:\n",
        "    popular_recommendations[user] = get_popular_recommendations(user, top_n_books, user_item_matrix)\n"
      ],
      "metadata": {
        "id": "5Dsw74b38-BP"
      },
      "execution_count": 47,
      "outputs": []
    },
    {
      "cell_type": "code",
      "source": [
        "def get_positive_books(user_id, ratings_df):\n",
        "    return set(ratings_df[(ratings_df['user_id'] == user_id) & (ratings_df['rating'] >= 4)]['book_id'])\n",
        "\n",
        "positive_books = {user: get_positive_books(user, ratings_df) for user in random_users}\n"
      ],
      "metadata": {
        "id": "P-G9ZfFE9IoG"
      },
      "execution_count": 48,
      "outputs": []
    },
    {
      "cell_type": "code",
      "source": [
        "def mean_average_precision_at_k(recommendations, positive_books, k=10):\n",
        "    ap_scores = []\n",
        "\n",
        "    for user, recs in recommendations.items():\n",
        "        ap_scores.append(average_precision_at_k(recs, positive_books.get(user, set()), k))\n",
        "\n",
        "    return np.mean(ap_scores)\n",
        "\n",
        "# Рассчитайте среднее значение AP@10 для бейзлайна из популярных книг\n",
        "mAP_at_10_popular = mean_average_precision_at_k(popular_recommendations, positive_books, k=10)\n",
        "print(f\"Средний AP@10 для бейзлайна из популярных книг: {mAP_at_10_popular:.4f}\")\n"
      ],
      "metadata": {
        "colab": {
          "base_uri": "https://localhost:8080/"
        },
        "id": "ayIiQ6LZ9OSX",
        "outputId": "2c1d6c49-f2af-4e9f-edba-36aad9ebe926"
      },
      "execution_count": 49,
      "outputs": [
        {
          "output_type": "stream",
          "name": "stdout",
          "text": [
            "Средний AP@10 для бейзлайна из популярных книг: 0.0000\n"
          ]
        }
      ]
    },
    {
      "cell_type": "code",
      "source": [
        "# Пример использования\n",
        "user_id = 2  # ID пользователя\n",
        "recommendations = get_recommendations(model, user_id, user_item_matrix)\n",
        "print(recommendations)"
      ],
      "metadata": {
        "colab": {
          "base_uri": "https://localhost:8080/"
        },
        "id": "umTwyPVu-jbd",
        "outputId": "1f625ff7-f8f8-47fd-8c83-7dacaffae0a3"
      },
      "execution_count": 50,
      "outputs": [
        {
          "output_type": "stream",
          "name": "stdout",
          "text": [
            "(array([ 92,  14,  13,   4,  35, 247,  28,  32,  55,  42], dtype=int32), array([0.904475  , 0.8670933 , 0.8527905 , 0.8398323 , 0.7991242 ,\n",
            "       0.7467043 , 0.74256724, 0.69936424, 0.597841  , 0.5927464 ],\n",
            "      dtype=float32))\n"
          ]
        }
      ]
    },
    {
      "cell_type": "markdown",
      "source": [
        "## Задание 3. Применение метода матричной факторизации и улучшение параметров алгоритма факторизации\n",
        "\n",
        "### Что нужно сделать\n",
        "1. Используя результаты, полученные при выполнении заданий 1 и 2, обучите алгоритм ALS из библиотеки Implicit с базовыми параметрами. Посмотрите, какие рекомендации вы получите для конкретного пользователя.\n",
        "2. Используя полученный ранее случайный список пользователей из задания 2, подсчитайте метрику mAP@10. Превзошла ли она какой-нибудь из бейзлайнов?\n",
        "3. Попробуйте использовать более «продвинутые» параметры:\n",
        "* большее количество факторов — отвечает за размерность векторов;\n",
        "* больше итераций, чтобы приблизиться к ответу.\n",
        "4. Сделайте несколько версий и посмотрите, как будут меняться рекомендации для конкретного пользователя и общая метрика mAP@10 (вы должны превзойти значение 0,02 — это нормально). Сделайте выводы о качестве полученной модели."
      ],
      "metadata": {
        "id": "zMhs3k1jtUCz"
      }
    },
    {
      "cell_type": "code",
      "source": [
        "# Создание модели Alternating Least Squares (ALS)\n",
        "model = implicit.als.AlternatingLeastSquares(factors=20, regularization=0.1, iterations=50)\n",
        "\n",
        "# Обучение модели на матрице user-item\n",
        "model.fit(user_item_matrix.T)"
      ],
      "metadata": {
        "colab": {
          "base_uri": "https://localhost:8080/",
          "height": 84,
          "referenced_widgets": [
            "28faf73ac96d4333953e44ab15fa0398",
            "00790250891a4b8e8a7455cc177512a6",
            "b4f4f76dcc294e69a368af8ced8ac828",
            "29d5da031dd945b0be7387ea0d228f08",
            "59490d03e14d4b668060403fb621c281",
            "1eb3d31353854812af76729eb81743aa",
            "986cae8d21cc4b70a0be68782bd342f7",
            "289bb73180df448f9d204c97e957dd09",
            "6b280073506b4ce6894b18ab4ad49cf3",
            "eb6c4216322441c18e915bb3e05c06cc",
            "7c1a31a2fd864f5682eccd07e1b46814"
          ]
        },
        "id": "25iOxBIDxn47",
        "outputId": "ccd7f4da-2873-46e2-e5a7-5e877f1e4858"
      },
      "execution_count": 107,
      "outputs": [
        {
          "output_type": "stream",
          "name": "stderr",
          "text": [
            "/usr/local/lib/python3.10/dist-packages/implicit/utils.py:164: ParameterWarning: Method expects CSR input, and was passed csc_matrix instead. Converting to CSR took 0.15095162391662598 seconds\n",
            "  warnings.warn(\n"
          ]
        },
        {
          "output_type": "display_data",
          "data": {
            "text/plain": [
              "  0%|          | 0/50 [00:00<?, ?it/s]"
            ],
            "application/vnd.jupyter.widget-view+json": {
              "version_major": 2,
              "version_minor": 0,
              "model_id": "28faf73ac96d4333953e44ab15fa0398"
            }
          },
          "metadata": {}
        }
      ]
    },
    {
      "cell_type": "code",
      "source": [
        "# Пример использования\n",
        "user_id = 3  # ID пользователя\n",
        "recommendations = get_recommendations(model, user_id, user_item_matrix)\n",
        "print(recommendations)"
      ],
      "metadata": {
        "colab": {
          "base_uri": "https://localhost:8080/"
        },
        "id": "NYY1IJyA8qCb",
        "outputId": "2f783936-b996-41a6-dde4-e91923742758"
      },
      "execution_count": 51,
      "outputs": [
        {
          "output_type": "stream",
          "name": "stdout",
          "text": [
            "(array([ 14,  29,   5,   8, 125,  87, 154, 131,  48, 354], dtype=int32), array([0.52084905, 0.5057618 , 0.50478673, 0.49874854, 0.44828695,\n",
            "       0.44163695, 0.43954957, 0.42903876, 0.416268  , 0.40675738],\n",
            "      dtype=float32))\n"
          ]
        }
      ]
    },
    {
      "cell_type": "code",
      "source": [
        "user_id = 3  # идентификатор пользователя\n",
        "user_ratings = train_matrix[user_id].toarray().flatten()\n",
        "high_rated_books = np.where(user_ratings == 1)[0]\n",
        "\n",
        "print(f\"Книги с высокой оценкой для пользователя {user_id}: {high_rated_books}\")\n"
      ],
      "metadata": {
        "colab": {
          "base_uri": "https://localhost:8080/"
        },
        "id": "m4YCl8eC-_wL",
        "outputId": "45066c66-a95b-4460-d380-b2a3cb486830"
      },
      "execution_count": 52,
      "outputs": [
        {
          "output_type": "stream",
          "name": "stdout",
          "text": [
            "Книги с высокой оценкой для пользователя 3: [   4   59  118  247  410  715  977 1714 2963 3311 7401 8492]\n"
          ]
        }
      ]
    },
    {
      "cell_type": "code",
      "source": [
        "# 14,  29,   5,   8, 125,  87, 154, 131,  48, 354"
      ],
      "metadata": {
        "id": "yahNlFysEeq7"
      },
      "execution_count": null,
      "outputs": []
    },
    {
      "cell_type": "code",
      "source": [
        "\n",
        "recommendations = [14,  29,   5,   8, 125,  87, 154, 131,  48, 354]\n",
        "\n",
        "# Список книг, положительно оцененных пользователем (с оценкой 4 или 5)\n",
        "relevant_books = [172, 195, 118, 5]\n",
        "\n",
        "# Количество рекомендаций для оценки\n",
        "k = 10\n",
        "\n",
        "# Вычисляем AP@K\n",
        "ap_at_k = average_precision_at_k(recommendations, relevant_books, k)\n",
        "print(f\"AP@{k}: {ap_at_k}\")"
      ],
      "metadata": {
        "colab": {
          "base_uri": "https://localhost:8080/"
        },
        "id": "YEOwRFFsPNye",
        "outputId": "bb8cf017-8066-4c9e-b388-77f2af469014"
      },
      "execution_count": 55,
      "outputs": [
        {
          "output_type": "stream",
          "name": "stdout",
          "text": [
            "AP@10: 0.08333333333333333\n"
          ]
        }
      ]
    },
    {
      "cell_type": "markdown",
      "source": [
        "Оптимизация параметров ALS:\n",
        "\n",
        "* factors (количество факторов): определяет размерность латентного пространства. Это количество скрытых признаков, которые описывают пользователей и книги. Увеличение этого числа может улучшить качество рекомендаций, но также увеличивает сложность модели и время обучения.\n",
        "* regularization (регуляризация): контролирует степень регуляризации, чтобы избежать переобучения. Более высокие значения могут улучшить обобщающую способность модели, но слишком высокая регуляризация может ухудшить точность.\n",
        "* iterations (количество итераций): определяет, сколько раз модель будет обновлять матрицы пользователей и элементов. Увеличение числа итераций может повысить точность модели, но также увеличит время обучения."
      ],
      "metadata": {
        "id": "qt7nSprLPnXZ"
      }
    },
    {
      "cell_type": "code",
      "source": [
        "# Создание модели Alternating Least Squares (ALS)\n",
        "model = implicit.als.AlternatingLeastSquares(factors=60, regularization=0.1, iterations=50)\n",
        "\n",
        "# Обучение модели на матрице user-item\n",
        "model.fit(user_item_matrix.T)"
      ],
      "metadata": {
        "colab": {
          "base_uri": "https://localhost:8080/",
          "height": 84,
          "referenced_widgets": [
            "c8cd1aa54e08410cbbb4b00a6d6c78b8",
            "d98556a082c94de19531f2820ac245ab",
            "57fa0c1553d449fb87f0d0563c57f233",
            "338c660b0a2247b3a7e2aa3c1c711f09",
            "381532736e5444c388b7f48f093f4912",
            "7059b1d46950465d8d1cfa232e31eee5",
            "07908f5f999a4ff08550c064145807dc",
            "e1bba9d77ef041e3bf96a228a2339701",
            "b8b02a1e2bbd4d7892b13762a5297968",
            "1e97140989dd45a7af6a27eabe918a16",
            "3ad97b39223648e19d86133b37f9a85e"
          ]
        },
        "id": "F0LbImTqPOhX",
        "outputId": "588c9022-f510-4d09-e440-89d7061e8056"
      },
      "execution_count": 64,
      "outputs": [
        {
          "output_type": "stream",
          "name": "stderr",
          "text": [
            "/usr/local/lib/python3.10/dist-packages/implicit/utils.py:164: ParameterWarning: Method expects CSR input, and was passed csc_matrix instead. Converting to CSR took 0.15874099731445312 seconds\n",
            "  warnings.warn(\n"
          ]
        },
        {
          "output_type": "display_data",
          "data": {
            "text/plain": [
              "  0%|          | 0/50 [00:00<?, ?it/s]"
            ],
            "application/vnd.jupyter.widget-view+json": {
              "version_major": 2,
              "version_minor": 0,
              "model_id": "c8cd1aa54e08410cbbb4b00a6d6c78b8"
            }
          },
          "metadata": {}
        }
      ]
    },
    {
      "cell_type": "code",
      "source": [
        "user_id = 3  # ID пользователя\n",
        "recommendations = get_recommendations(model, user_id, user_item_matrix)\n",
        "print(recommendations)"
      ],
      "metadata": {
        "colab": {
          "base_uri": "https://localhost:8080/"
        },
        "id": "OodUx_R1QvJ9",
        "outputId": "8a0f99f5-d5c6-473e-be26-c9b346b59609"
      },
      "execution_count": 78,
      "outputs": [
        {
          "output_type": "stream",
          "name": "stdout",
          "text": [
            "(array([28147, 36526, 28437, 35529,  9562, 37710,  8995, 14889, 13108,\n",
            "       20405], dtype=int32), array([1.5504405, 1.5368575, 1.5239139, 1.5199897, 1.5177922, 1.5001006,\n",
            "       1.4949894, 1.4793109, 1.4637859, 1.4566276], dtype=float32))\n"
          ]
        }
      ]
    },
    {
      "cell_type": "code",
      "source": [
        "recommendations = [28147, 36526, 28437, 35529,  9562, 37710,  8995, 14889, 13108,\n",
        "       20405]\n",
        "\n",
        "# Список книг, положительно оцененных пользователем (с оценкой 4 или 5)\n",
        "relevant_books = [247, 36, 28437, 359,  9562, 310,  8995, 149, 138,\n",
        "       20405]\n",
        "\n",
        "# Количество рекомендаций для оценки\n",
        "k = 10\n",
        "\n",
        "# Вычисляем AP@K\n",
        "ap_at_k = average_precision_at_k(recommendations, relevant_books, k)\n",
        "print(f\"AP@{k}: {ap_at_k}\")"
      ],
      "metadata": {
        "colab": {
          "base_uri": "https://localhost:8080/"
        },
        "id": "O2ryuYT_Q2DN",
        "outputId": "d0b0edd6-ec32-4094-94fd-59feef8c7ce8"
      },
      "execution_count": 73,
      "outputs": [
        {
          "output_type": "stream",
          "name": "stdout",
          "text": [
            "AP@10: 0.1561904761904762\n"
          ]
        }
      ]
    },
    {
      "cell_type": "code",
      "source": [
        "import numpy as np\n",
        "\n",
        "def average_precision_at_k(recommended_books, high_rated_books, K):\n",
        "    \"\"\"\n",
        "    Рассчитывает Average Precision@K.\n",
        "\n",
        "    Parameters:\n",
        "    - recommended_books: Список рекомендованных книг.\n",
        "    - high_rated_books: Список книг, которые пользователь оценил высоко.\n",
        "    - K: Количество рекомендаций.\n",
        "\n",
        "    Returns:\n",
        "    - average_precision: Average Precision@K.\n",
        "    \"\"\"\n",
        "    recommended_books = recommended_books[:K]\n",
        "    relevant_count = 0\n",
        "    precision_sum = 0.0\n",
        "\n",
        "    for i, book_id in enumerate(recommended_books):\n",
        "        if book_id in high_rated_books:\n",
        "            relevant_count += 1\n",
        "            precision_sum += relevant_count / (i + 1)\n",
        "\n",
        "    return precision_sum / min(K, len(high_rated_books)) if high_rated_books else 0\n",
        "\n",
        "def mean_average_precision_at_k(user_recommendations, user_high_rated_books, K):\n",
        "    \"\"\"\n",
        "    Рассчитывает Mean Average Precision@K по всем пользователям.\n",
        "\n",
        "    Parameters:\n",
        "    - user_recommendations: Словарь, где ключ - ID пользователя, значение - список рекомендованных книг.\n",
        "    - user_high_rated_books: Словарь, где ключ - ID пользователя, значение - список книг с высокой оценкой.\n",
        "    - K: Количество рекомендаций.\n",
        "\n",
        "    Returns:\n",
        "    - mean_average_precision: Mean Average Precision@K.\n",
        "    \"\"\"\n",
        "    ap_list = []\n",
        "    for user_id in user_recommendations.keys():\n",
        "        recommended_books = user_recommendations[user_id]\n",
        "        high_rated_books = user_high_rated_books[user_id]\n",
        "        ap = average_precision_at_k(recommended_books, high_rated_books, K)\n",
        "        ap_list.append(ap)\n",
        "\n",
        "    return np.mean(ap_list)\n",
        "\n",
        "# Пример использования\n",
        "user_recommendations = {\n",
        "    1: [100, 200, 300, 400, 500, 600, 700, 800, 900, 1000],\n",
        "    2: [150, 250, 350, 450, 550, 650, 750, 850, 950, 1050],\n",
        "    # Добавьте рекомендации для всех пользователей\n",
        "}\n",
        "\n",
        "user_high_rated_books = {\n",
        "    1: [100, 300, 500],\n",
        "    2: [150, 350, 550],\n",
        "    # Добавьте высоко оцененные книги для всех пользователей\n",
        "}\n",
        "\n",
        "K = 10\n",
        "mean_ap_at_k = mean_average_precision_at_k(user_recommendations, user_high_rated_books, K)\n",
        "print(f\"mAP@{K}: {mean_ap_at_k:.4f}\")\n"
      ],
      "metadata": {
        "colab": {
          "base_uri": "https://localhost:8080/"
        },
        "id": "gy-DW660Tr8N",
        "outputId": "38a79c5a-8d62-4cf1-edd3-c4b902787ba6"
      },
      "execution_count": 75,
      "outputs": [
        {
          "output_type": "stream",
          "name": "stdout",
          "text": [
            "mAP@10: 0.7556\n"
          ]
        }
      ]
    }
  ]
}